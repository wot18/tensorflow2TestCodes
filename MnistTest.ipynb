{
  "nbformat": 4,
  "nbformat_minor": 0,
  "metadata": {
    "colab": {
      "name": "MnistTest.ipynb",
      "provenance": []
    },
    "kernelspec": {
      "name": "python3",
      "display_name": "Python 3"
    },
    "language_info": {
      "name": "python"
    },
    "accelerator": "GPU"
  },
  "cells": [
    {
      "cell_type": "code",
      "metadata": {
        "id": "8fOHcp1WC2x9"
      },
      "source": [
        "import numpy as np\n",
        "import tensorflow as tf"
      ],
      "execution_count": null,
      "outputs": []
    },
    {
      "cell_type": "code",
      "metadata": {
        "colab": {
          "base_uri": "https://localhost:8080/"
        },
        "id": "vSwzhGWlDA4c",
        "outputId": "77587506-5c8e-4519-904f-121f7f54331e"
      },
      "source": [
        "mnist=tf.keras.datasets.mnist\n",
        "(x_train,y_train),(x_test,y_test)=mnist.load_data()\n",
        "x_train.shape,y_train.shape,x_test.shape,y_test.shape"
      ],
      "execution_count": null,
      "outputs": [
        {
          "output_type": "stream",
          "text": [
            "Downloading data from https://storage.googleapis.com/tensorflow/tf-keras-datasets/mnist.npz\n",
            "11493376/11490434 [==============================] - 0s 0us/step\n"
          ],
          "name": "stdout"
        },
        {
          "output_type": "execute_result",
          "data": {
            "text/plain": [
              "((60000, 28, 28), (60000,), (10000, 28, 28), (10000,))"
            ]
          },
          "metadata": {
            "tags": []
          },
          "execution_count": 2
        }
      ]
    },
    {
      "cell_type": "code",
      "metadata": {
        "colab": {
          "base_uri": "https://localhost:8080/"
        },
        "id": "t_TcwcpMEgGi",
        "outputId": "3374a1f1-4cc4-4f76-9a03-bb1ef76ca14d"
      },
      "source": [
        "x_train,x_test=x_train/255.0,x_test/255.0\n",
        "x_train=tf.expand_dims(x_train,-1)\n",
        "x_test=tf.expand_dims(x_test,-1)\n",
        "x_train.shape,x_test.shape"
      ],
      "execution_count": null,
      "outputs": [
        {
          "output_type": "execute_result",
          "data": {
            "text/plain": [
              "(TensorShape([60000, 28, 28, 1]), TensorShape([10000, 28, 28, 1]))"
            ]
          },
          "metadata": {
            "tags": []
          },
          "execution_count": 3
        }
      ]
    },
    {
      "cell_type": "code",
      "metadata": {
        "colab": {
          "base_uri": "https://localhost:8080/"
        },
        "id": "feK8H0j4Fgw8",
        "outputId": "ec082a38-63b6-4eba-f69c-046613803eea"
      },
      "source": [
        "y_train=np.float32(tf.keras.utils.to_categorical(y_train,num_classes=10))\n",
        "y_test=np.float32(tf.keras.utils.to_categorical(y_test,num_classes=10))\n",
        "y_train.shape,y_test.shape"
      ],
      "execution_count": null,
      "outputs": [
        {
          "output_type": "execute_result",
          "data": {
            "text/plain": [
              "((60000, 10), (10000, 10))"
            ]
          },
          "metadata": {
            "tags": []
          },
          "execution_count": 4
        }
      ]
    },
    {
      "cell_type": "code",
      "metadata": {
        "colab": {
          "base_uri": "https://localhost:8080/"
        },
        "id": "2Y2lxC8rGhR2",
        "outputId": "97d746bb-179c-4045-be96-1f2759eaba9c"
      },
      "source": [
        "batch_size=512\n",
        "train_dataset=tf.data.Dataset.from_tensor_slices((x_train,y_train)).batch(batch_size).shuffle(batch_size*10)\n",
        "test_dataset=tf.data.Dataset.from_tensor_slices((x_test,y_test)).batch(batch_size)\n",
        "train_dataset"
      ],
      "execution_count": null,
      "outputs": [
        {
          "output_type": "execute_result",
          "data": {
            "text/plain": [
              "<ShuffleDataset shapes: ((None, 28, 28, 1), (None, 10)), types: (tf.float64, tf.float32)>"
            ]
          },
          "metadata": {
            "tags": []
          },
          "execution_count": 5
        }
      ]
    },
    {
      "cell_type": "code",
      "metadata": {
        "id": "kfJyBI5qPp6A"
      },
      "source": [
        "class MyLayer(tf.keras.layers.Layer):\n",
        "  def __init__(self,kernel_size,filter):\n",
        "    self.filter=filter\n",
        "    self.kernel_size=kernel_size\n",
        "    super(MyLayer,self).__init__()\n",
        "\n",
        "  def build(self,input_shape):\n",
        "    self.weight=tf.Variable(tf.random.normal([self.kernel_size,self.kernel_size,input_shape[-1],self.filter]))\n",
        "    self.bias=tf.Variable(tf.random.normal([self.filter])\n",
        "    super(MyLayer,self)).build(input)"
      ],
      "execution_count": null,
      "outputs": []
    },
    {
      "cell_type": "code",
      "metadata": {
        "colab": {
          "base_uri": "https://localhost:8080/"
        },
        "id": "3YbZBoa6HNMR",
        "outputId": "67cfe748-e7e2-4461-ea58-d4f70b7ddc8e"
      },
      "source": [
        "input_xs=tf.keras.Input([28,28,1])\n",
        "conv=tf.keras.layers.Conv2D(16,3,padding='SAME',activation=tf.nn.relu)(input_xs)\n",
        "conv=tf.keras.layers.BatchNormalization()(conv)\n",
        "conv=tf.keras.layers.Conv2D(30,3,padding='SAME',activation=tf.nn.relu)(conv)\n",
        "conv=tf.keras.layers.MaxPool2D(strides=[1,1])(conv)\n",
        "conv=tf.keras.layers.Conv2D(86,3,padding='SAME',activation=tf.nn.relu)(conv)\n",
        "flat=tf.keras.layers.Flatten()(conv)\n",
        "dense=tf.keras.layers.Dense(200,activation=tf.nn.relu)(flat)\n",
        "logits=tf.keras.layers.Dense(10,activation=tf.nn.softmax)(dense)\n",
        "model=tf.keras.Model(inputs=input_xs,outputs=logits)\n",
        "model.summary()"
      ],
      "execution_count": null,
      "outputs": [
        {
          "output_type": "stream",
          "text": [
            "Model: \"model\"\n",
            "_________________________________________________________________\n",
            "Layer (type)                 Output Shape              Param #   \n",
            "=================================================================\n",
            "input_1 (InputLayer)         [(None, 28, 28, 1)]       0         \n",
            "_________________________________________________________________\n",
            "conv2d (Conv2D)              (None, 28, 28, 16)        160       \n",
            "_________________________________________________________________\n",
            "batch_normalization (BatchNo (None, 28, 28, 16)        64        \n",
            "_________________________________________________________________\n",
            "conv2d_1 (Conv2D)            (None, 28, 28, 30)        4350      \n",
            "_________________________________________________________________\n",
            "max_pooling2d (MaxPooling2D) (None, 27, 27, 30)        0         \n",
            "_________________________________________________________________\n",
            "conv2d_2 (Conv2D)            (None, 27, 27, 86)        23306     \n",
            "_________________________________________________________________\n",
            "flatten (Flatten)            (None, 62694)             0         \n",
            "_________________________________________________________________\n",
            "dense (Dense)                (None, 200)               12539000  \n",
            "_________________________________________________________________\n",
            "dense_1 (Dense)              (None, 10)                2010      \n",
            "=================================================================\n",
            "Total params: 12,568,890\n",
            "Trainable params: 12,568,858\n",
            "Non-trainable params: 32\n",
            "_________________________________________________________________\n"
          ],
          "name": "stdout"
        }
      ]
    },
    {
      "cell_type": "code",
      "metadata": {
        "colab": {
          "base_uri": "https://localhost:8080/"
        },
        "id": "WR0GL_chJvJC",
        "outputId": "aef61840-7ee9-4e4e-dace-d556658a849a"
      },
      "source": [
        "model.compile(optimizer=tf.optimizers.Adam(1e-3),loss=tf.losses.categorical_crossentropy,\n",
        "              metrics=['accuracy'])\n",
        "model.fit(train_dataset,epochs=10)"
      ],
      "execution_count": null,
      "outputs": [
        {
          "output_type": "stream",
          "text": [
            "Epoch 1/10\n",
            "118/118 [==============================] - 37s 46ms/step - loss: 0.6399 - accuracy: 0.8892\n",
            "Epoch 2/10\n",
            "118/118 [==============================] - 5s 45ms/step - loss: 0.0574 - accuracy: 0.9827\n",
            "Epoch 3/10\n",
            "118/118 [==============================] - 6s 45ms/step - loss: 0.0371 - accuracy: 0.9882\n",
            "Epoch 4/10\n",
            "118/118 [==============================] - 5s 45ms/step - loss: 0.0247 - accuracy: 0.9922\n",
            "Epoch 5/10\n",
            "118/118 [==============================] - 6s 45ms/step - loss: 0.0153 - accuracy: 0.9951\n",
            "Epoch 6/10\n",
            "118/118 [==============================] - 6s 45ms/step - loss: 0.0097 - accuracy: 0.9971\n",
            "Epoch 7/10\n",
            "118/118 [==============================] - 6s 46ms/step - loss: 0.0065 - accuracy: 0.9982\n",
            "Epoch 8/10\n",
            "118/118 [==============================] - 6s 46ms/step - loss: 0.0064 - accuracy: 0.9980\n",
            "Epoch 9/10\n",
            "118/118 [==============================] - 6s 46ms/step - loss: 0.0032 - accuracy: 0.9992\n",
            "Epoch 10/10\n",
            "118/118 [==============================] - 6s 47ms/step - loss: 0.0029 - accuracy: 0.9991\n"
          ],
          "name": "stdout"
        },
        {
          "output_type": "execute_result",
          "data": {
            "text/plain": [
              "<tensorflow.python.keras.callbacks.History at 0x7f9b1c034350>"
            ]
          },
          "metadata": {
            "tags": []
          },
          "execution_count": 7
        }
      ]
    },
    {
      "cell_type": "code",
      "metadata": {
        "colab": {
          "base_uri": "https://localhost:8080/"
        },
        "id": "2HwZD21tK4sz",
        "outputId": "746afdbd-bf17-44bc-d8b4-cc4f9ee15d1c"
      },
      "source": [
        "model.save(\"./saver/model.h5\")\n",
        "score=model.evaluate(test_dataset)"
      ],
      "execution_count": null,
      "outputs": [
        {
          "output_type": "stream",
          "text": [
            "20/20 [==============================] - 1s 27ms/step - loss: 0.0370 - accuracy: 0.9899\n"
          ],
          "name": "stdout"
        }
      ]
    },
    {
      "cell_type": "code",
      "metadata": {
        "colab": {
          "base_uri": "https://localhost:8080/"
        },
        "id": "veSfIT5HK-rr",
        "outputId": "8b9f1244-5ba8-42db-a7b7-9fdb0f4c9d2f"
      },
      "source": [
        "print('last score: ',score)"
      ],
      "execution_count": null,
      "outputs": [
        {
          "output_type": "stream",
          "text": [
            "last score:  [0.0370236374437809, 0.9898999929428101]\n"
          ],
          "name": "stdout"
        }
      ]
    },
    {
      "cell_type": "code",
      "metadata": {
        "colab": {
          "base_uri": "https://localhost:8080/"
        },
        "id": "NmAqKvaTdjFS",
        "outputId": "fee8c195-9fc8-4040-ff7c-a21b3380cad8"
      },
      "source": [
        "import tensorflow as tf\n",
        "data=[[0,0,0,0,0],[1,1,1,1,1],[2,2,2,2,2.0]]\n",
        "dataset=tf.data.Dataset.from_tensor_slices(data)\n",
        "print(dataset)"
      ],
      "execution_count": null,
      "outputs": [
        {
          "output_type": "stream",
          "text": [
            "<TensorSliceDataset shapes: (5,), types: tf.float32>\n"
          ],
          "name": "stdout"
        }
      ]
    }
  ]
}