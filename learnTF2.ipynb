{
  "nbformat": 4,
  "nbformat_minor": 0,
  "metadata": {
    "colab": {
      "name": "learnTF2.ipynb",
      "provenance": [],
      "collapsed_sections": []
    },
    "kernelspec": {
      "name": "python3",
      "display_name": "Python 3"
    }
  },
  "cells": [
    {
      "cell_type": "code",
      "metadata": {
        "colab": {
          "base_uri": "https://localhost:8080/"
        },
        "id": "x4p1U_prABZL",
        "outputId": "a92cb6a3-d996-494b-cbe5-fded41df43ec"
      },
      "source": [
        "import os\n",
        "import tensorflow as tf\n",
        "from tensorflow import keras\n",
        "from tensorflow.keras import layers,optimizers,datasets\n",
        "\n",
        "a=tf.constant('Hello, Deep Learning.')\n",
        "a=tf.strings.lower(a)\n",
        "a"
      ],
      "execution_count": null,
      "outputs": [
        {
          "output_type": "execute_result",
          "data": {
            "text/plain": [
              "<tf.Tensor: shape=(), dtype=string, numpy=b'hello, deep learning.'>"
            ]
          },
          "metadata": {
            "tags": []
          },
          "execution_count": 11
        }
      ]
    },
    {
      "cell_type": "code",
      "metadata": {
        "id": "W4dYksAGzMZZ",
        "colab": {
          "base_uri": "https://localhost:8080/"
        },
        "outputId": "39079665-05dd-4d9f-a2d9-e715751e66e3"
      },
      "source": [
        "import tensorflow as tf\n",
        "x=tf.random.normal([2,4])\n",
        "w=tf.ones([4,3])\n",
        "b=tf.zeros([3])\n",
        "o=x@w+b\n",
        "o"
      ],
      "execution_count": null,
      "outputs": [
        {
          "output_type": "execute_result",
          "data": {
            "text/plain": [
              "<tf.Tensor: shape=(2, 3), dtype=float32, numpy=\n",
              "array([[ 4.345643 ,  4.345643 ,  4.345643 ],\n",
              "       [-2.2488294, -2.2488294, -2.2488294]], dtype=float32)>"
            ]
          },
          "metadata": {
            "tags": []
          },
          "execution_count": 1
        }
      ]
    },
    {
      "cell_type": "code",
      "metadata": {
        "colab": {
          "base_uri": "https://localhost:8080/"
        },
        "id": "QfzDiUGU4Wrz",
        "outputId": "b6bfdd4b-ff62-414b-92a9-c69500c94e0c"
      },
      "source": [
        "from tensorflow import keras\n",
        "from keras import layers\n",
        "fc=layers.Dense(3)\n",
        "fc.build(input_shape=(2,4))\n",
        "fc.kernel"
      ],
      "execution_count": null,
      "outputs": [
        {
          "output_type": "execute_result",
          "data": {
            "text/plain": [
              "<tf.Variable 'kernel:0' shape=(4, 3) dtype=float32, numpy=\n",
              "array([[-0.625144  , -0.4871271 , -0.13625276],\n",
              "       [ 0.7893007 , -0.29344624,  0.64521563],\n",
              "       [ 0.754002  , -0.0594089 ,  0.40726268],\n",
              "       [ 0.4071313 , -0.35926366,  0.28335524]], dtype=float32)>"
            ]
          },
          "metadata": {
            "tags": []
          },
          "execution_count": 3
        }
      ]
    },
    {
      "cell_type": "code",
      "metadata": {
        "colab": {
          "base_uri": "https://localhost:8080/"
        },
        "id": "UvkbsXep6d57",
        "outputId": "d013e30e-10f6-43ba-c073-20ada62572a9"
      },
      "source": [
        "import tensorflow as tf\n",
        "from tensorflow import keras\n",
        "from keras import layers\n",
        "x=tf.random.normal([4,32,32,3])\n",
        "layer=layers.Conv2D(16,kernel_size=3)\n",
        "out=layer(x)\n",
        "out.shape\n",
        "layer.kernel.shape"
      ],
      "execution_count": null,
      "outputs": [
        {
          "output_type": "execute_result",
          "data": {
            "text/plain": [
              "TensorShape([3, 3, 3, 16])"
            ]
          },
          "metadata": {
            "tags": []
          },
          "execution_count": 5
        }
      ]
    },
    {
      "cell_type": "code",
      "metadata": {
        "colab": {
          "base_uri": "https://localhost:8080/"
        },
        "id": "NDQuVv7UrlBQ",
        "outputId": "73c6662e-35bc-4b51-ad9c-5cd1c956ff65"
      },
      "source": [
        "import tensorflow as tf\n",
        "x=tf.range(96)\n",
        "x=tf.reshape(x,[2,4,4,3])\n",
        "x.ndim,x.shape\n",
        "x=tf.reshape(x,[2,-1])\n",
        "x=tf.reshape(x,[2,4,12])\n",
        "x=tf.reshape(x,[2,-1,3])\n",
        "\n",
        "x=tf.random.uniform([1,28,28,1],maxval=10,dtype=tf.int32)\n",
        "#x=tf.expand_dims(x,axis=2)\n",
        "#x=tf.expand_dims(x,axis=0)\n",
        "x=tf.squeeze(x)\n",
        "x"
      ],
      "execution_count": null,
      "outputs": [
        {
          "output_type": "execute_result",
          "data": {
            "text/plain": [
              "<tf.Tensor: shape=(28, 28), dtype=int32, numpy=\n",
              "array([[1, 8, 9, 4, 4, 0, 1, 5, 8, 4, 4, 3, 9, 3, 6, 5, 0, 6, 5, 2, 1, 3,\n",
              "        3, 3, 9, 1, 7, 0],\n",
              "       [8, 6, 2, 9, 8, 4, 0, 4, 8, 7, 1, 3, 2, 5, 7, 1, 0, 5, 2, 6, 6, 8,\n",
              "        0, 9, 0, 7, 1, 1],\n",
              "       [0, 3, 7, 1, 5, 2, 4, 2, 1, 6, 6, 9, 7, 7, 7, 6, 5, 0, 4, 8, 7, 1,\n",
              "        5, 0, 2, 8, 4, 8],\n",
              "       [2, 5, 4, 4, 1, 6, 2, 9, 1, 0, 3, 1, 4, 0, 7, 9, 3, 9, 3, 0, 3, 9,\n",
              "        8, 3, 0, 7, 2, 3],\n",
              "       [6, 4, 7, 0, 6, 4, 8, 0, 1, 9, 7, 2, 8, 2, 0, 6, 0, 9, 5, 8, 6, 2,\n",
              "        1, 6, 0, 6, 6, 4],\n",
              "       [6, 8, 3, 0, 6, 2, 0, 4, 2, 1, 8, 9, 8, 1, 8, 6, 2, 1, 9, 4, 9, 4,\n",
              "        8, 3, 1, 7, 7, 3],\n",
              "       [0, 1, 4, 6, 8, 2, 1, 8, 1, 8, 0, 4, 5, 0, 3, 3, 3, 3, 8, 3, 5, 1,\n",
              "        5, 8, 3, 1, 9, 3],\n",
              "       [4, 5, 2, 8, 1, 0, 1, 0, 2, 1, 3, 8, 3, 9, 0, 4, 9, 3, 0, 8, 3, 3,\n",
              "        3, 4, 8, 8, 8, 7],\n",
              "       [4, 6, 2, 7, 5, 7, 9, 5, 8, 2, 1, 5, 1, 2, 6, 4, 2, 5, 5, 0, 6, 5,\n",
              "        4, 8, 4, 8, 8, 1],\n",
              "       [7, 7, 2, 4, 5, 3, 2, 3, 8, 8, 3, 5, 1, 6, 6, 5, 7, 7, 6, 8, 6, 7,\n",
              "        0, 2, 6, 5, 5, 0],\n",
              "       [2, 2, 4, 6, 8, 3, 0, 9, 5, 5, 1, 9, 2, 1, 5, 1, 6, 9, 5, 7, 8, 5,\n",
              "        9, 9, 6, 4, 2, 9],\n",
              "       [8, 4, 4, 8, 2, 5, 3, 2, 9, 2, 7, 4, 5, 6, 3, 0, 8, 0, 7, 8, 7, 9,\n",
              "        7, 7, 5, 2, 9, 6],\n",
              "       [4, 0, 2, 6, 4, 5, 8, 4, 9, 8, 8, 6, 8, 1, 5, 3, 4, 9, 8, 5, 3, 3,\n",
              "        7, 2, 5, 4, 3, 6],\n",
              "       [1, 2, 8, 9, 6, 1, 4, 9, 2, 2, 1, 1, 4, 5, 7, 1, 7, 2, 9, 4, 8, 7,\n",
              "        5, 0, 4, 5, 6, 2],\n",
              "       [3, 5, 2, 4, 6, 3, 6, 2, 4, 9, 9, 7, 6, 3, 0, 4, 8, 8, 5, 5, 2, 6,\n",
              "        5, 1, 1, 8, 8, 7],\n",
              "       [4, 3, 6, 0, 4, 7, 8, 2, 8, 0, 0, 4, 6, 2, 5, 1, 2, 5, 6, 2, 7, 7,\n",
              "        3, 6, 3, 9, 5, 6],\n",
              "       [7, 0, 8, 1, 2, 3, 9, 4, 5, 5, 1, 5, 7, 7, 9, 5, 4, 6, 8, 7, 0, 1,\n",
              "        4, 7, 3, 1, 5, 0],\n",
              "       [5, 6, 4, 6, 4, 9, 0, 1, 7, 8, 5, 9, 9, 6, 1, 0, 8, 2, 8, 5, 3, 8,\n",
              "        5, 3, 0, 6, 0, 2],\n",
              "       [9, 2, 9, 7, 6, 1, 6, 0, 2, 6, 3, 7, 6, 8, 0, 8, 2, 8, 7, 4, 6, 1,\n",
              "        1, 7, 1, 8, 3, 8],\n",
              "       [0, 2, 8, 9, 9, 6, 1, 2, 2, 1, 0, 9, 6, 1, 6, 1, 4, 4, 0, 2, 1, 1,\n",
              "        5, 3, 1, 2, 5, 8],\n",
              "       [8, 4, 2, 9, 8, 3, 2, 6, 2, 3, 4, 7, 6, 7, 4, 7, 1, 5, 1, 7, 2, 7,\n",
              "        8, 8, 4, 7, 5, 1],\n",
              "       [9, 4, 4, 0, 0, 4, 7, 5, 8, 5, 3, 7, 9, 3, 1, 1, 1, 7, 7, 8, 4, 8,\n",
              "        5, 8, 4, 8, 9, 5],\n",
              "       [2, 2, 4, 1, 3, 2, 1, 9, 8, 6, 3, 3, 2, 1, 9, 5, 1, 3, 0, 7, 5, 2,\n",
              "        9, 1, 9, 9, 3, 2],\n",
              "       [1, 8, 2, 0, 9, 6, 0, 8, 9, 1, 3, 6, 8, 5, 9, 4, 1, 9, 8, 7, 5, 7,\n",
              "        5, 7, 2, 5, 4, 9],\n",
              "       [0, 8, 3, 0, 5, 0, 0, 4, 1, 8, 3, 9, 4, 0, 6, 4, 8, 0, 0, 3, 2, 1,\n",
              "        3, 1, 5, 0, 2, 7],\n",
              "       [6, 3, 1, 4, 0, 2, 3, 5, 7, 6, 7, 2, 0, 1, 2, 2, 2, 4, 4, 1, 7, 9,\n",
              "        5, 2, 5, 0, 3, 3],\n",
              "       [0, 8, 9, 0, 7, 4, 8, 2, 9, 1, 8, 4, 4, 7, 3, 3, 6, 3, 6, 8, 9, 2,\n",
              "        2, 6, 9, 7, 2, 0],\n",
              "       [3, 1, 3, 9, 5, 4, 9, 7, 3, 5, 1, 2, 3, 3, 3, 6, 1, 0, 0, 9, 0, 5,\n",
              "        1, 2, 9, 3, 7, 3]], dtype=int32)>"
            ]
          },
          "metadata": {
            "tags": []
          },
          "execution_count": 16
        }
      ]
    },
    {
      "cell_type": "code",
      "metadata": {
        "id": "9a0KPBF5sk0Y",
        "colab": {
          "base_uri": "https://localhost:8080/"
        },
        "outputId": "3820f72e-feea-48dd-d360-b762873d0443"
      },
      "source": [
        "import tensorflow as tf\n",
        "x=tf.random.normal([2,32,32,3])\n",
        "x=tf.transpose(x,[0,2,1,3])\n",
        "b=tf.constant([1,2])\n",
        "b=tf.expand_dims(b,axis=0)\n",
        "b=tf.tile(b,[2,1])\n",
        "\n",
        "x=tf.range(4)\n",
        "x=tf.reshape(x,[2,2])\n",
        "x=tf.tile(x,[1,2])\n",
        "x=tf.tile(x,[2,1])\n",
        "x\n",
        "\n",
        "x=tf.random.normal([2,4])\n",
        "w=tf.random.normal([4,3])\n",
        "b=tf.random.normal([3])\n",
        "y=x@w+b\n",
        "y\n",
        "\n",
        "'''A=tf.random.normal([4,2])\n",
        "A=tf.broadcast_to(A,[2,4,4,3])\n",
        "A'''\n",
        "\n",
        "a=tf.range(5)\n",
        "a=tf.cast(a,dtype=tf.float32)\n",
        "b=tf.constant(0.3,dtype=tf.float32)\n",
        "c=a**b\n",
        "tf.sqrt(a)\n",
        "tf.exp(1.)\n",
        "\n",
        "x=tf.exp(3.)\n",
        "y=tf.math.log(x)\n",
        "y\n",
        "\n",
        "x=tf.constant([1.,2.])\n",
        "x=10**x\n",
        "tf.math.log(x)/tf.math.log(10.)"
      ],
      "execution_count": null,
      "outputs": [
        {
          "output_type": "execute_result",
          "data": {
            "text/plain": [
              "<tf.Tensor: shape=(2,), dtype=float32, numpy=array([1., 2.], dtype=float32)>"
            ]
          },
          "metadata": {
            "tags": []
          },
          "execution_count": 30
        }
      ]
    },
    {
      "cell_type": "code",
      "metadata": {
        "colab": {
          "base_uri": "https://localhost:8080/"
        },
        "id": "RwOnNzq4o03M",
        "outputId": "850d04d8-25db-431a-e125-6d2f7549a60d"
      },
      "source": [
        "import numpy as np\n",
        "import tensorflow as tf\n",
        "x=np.ones([2,3])\n",
        "x\n",
        "y=np.ones(3)\n",
        "z=x@y\n",
        "z"
      ],
      "execution_count": null,
      "outputs": [
        {
          "output_type": "execute_result",
          "data": {
            "text/plain": [
              "array([3., 3.])"
            ]
          },
          "metadata": {
            "tags": []
          },
          "execution_count": 39
        }
      ]
    },
    {
      "cell_type": "code",
      "metadata": {
        "colab": {
          "base_uri": "https://localhost:8080/",
          "height": 1000
        },
        "id": "G10hYraUlFAI",
        "outputId": "4dffcaf6-4dcd-47eb-a2c6-ee01346f1583"
      },
      "source": [
        "import matplotlib.pyplot as plt\n",
        "import tensorflow as tf\n",
        "import tensorflow.keras.datasets as datasets\n",
        "\n",
        "#plt.rcParams['font.size'] = 16\n",
        "#plt.rcParams['font.family'] = ['STKaiti']\n",
        "#plt.rcParams['axes.unicode_minus'] = False\n",
        "\n",
        "\n",
        "def load_data():\n",
        "    # 加载 MNIST 数据集\n",
        "    (x, y), (x_val, y_val) = datasets.mnist.load_data()\n",
        "    # 转换为浮点张量， 并缩放到-1~1\n",
        "    x = tf.convert_to_tensor(x, dtype=tf.float32) / 255.\n",
        "    # 转换为整形张量\n",
        "    y = tf.convert_to_tensor(y, dtype=tf.int32)\n",
        "    # one-hot 编码\n",
        "    y = tf.one_hot(y, depth=10)\n",
        "\n",
        "    # 改变视图， [b, 28, 28] => [b, 28*28]\n",
        "    x = tf.reshape(x, (-1, 28 * 28))\n",
        "\n",
        "    # 构建数据集对象\n",
        "    train_dataset = tf.data.Dataset.from_tensor_slices((x, y))\n",
        "    # 批量训练\n",
        "    train_dataset = train_dataset.batch(200)\n",
        "    return train_dataset\n",
        "\n",
        "\n",
        "def init_paramaters():\n",
        "    # 每层的张量都需要被优化，故使用 Variable 类型，并使用截断的正太分布初始化权值张量\n",
        "    # 偏置向量初始化为 0 即可\n",
        "    # 第一层的参数\n",
        "    w1 = tf.Variable(tf.random.truncated_normal([784, 256], stddev=0.1))\n",
        "    b1 = tf.Variable(tf.zeros([256]))\n",
        "    # 第二层的参数\n",
        "    w2 = tf.Variable(tf.random.truncated_normal([256, 128], stddev=0.1))\n",
        "    b2 = tf.Variable(tf.zeros([128]))\n",
        "    # 第三层的参数\n",
        "    w3 = tf.Variable(tf.random.truncated_normal([128, 10], stddev=0.1))\n",
        "    b3 = tf.Variable(tf.zeros([10]))\n",
        "    return w1, b1, w2, b2, w3, b3\n",
        "\n",
        "\n",
        "def train_epoch(epoch, train_dataset, w1, b1, w2, b2, w3, b3, lr=0.001):\n",
        "    for step, (x, y) in enumerate(train_dataset):\n",
        "        with tf.GradientTape() as tape:\n",
        "            # 第一层计算， [b, 784]@[784, 256] + [256] => [b, 256] + [256] => [b,256] + [b, 256]\n",
        "            h1 = x @ w1 + tf.broadcast_to(b1, (x.shape[0], 256))\n",
        "            h1 = tf.nn.relu(h1)  # 通过激活函数\n",
        "\n",
        "            # 第二层计算， [b, 256] => [b, 128]\n",
        "            h2 = h1 @ w2 + b2\n",
        "            h2 = tf.nn.relu(h2)\n",
        "            # 输出层计算， [b, 128] => [b, 10]\n",
        "            out = h2 @ w3 + b3\n",
        "\n",
        "            # 计算网络输出与标签之间的均方差， mse = mean(sum(y-out)^2)\n",
        "            # [b, 10]\n",
        "            loss = tf.square(y - out)\n",
        "            # 误差标量， mean: scalar\n",
        "            loss = tf.reduce_mean(loss)\n",
        "\n",
        "            # 自动梯度，需要求梯度的张量有[w1, b1, w2, b2, w3, b3]\n",
        "            grads = tape.gradient(loss, [w1, b1, w2, b2, w3, b3])\n",
        "\n",
        "        # 梯度更新， assign_sub 将当前值减去参数值，原地更新\n",
        "        w1.assign_sub(lr * grads[0])\n",
        "        b1.assign_sub(lr * grads[1])\n",
        "        w2.assign_sub(lr * grads[2])\n",
        "        b2.assign_sub(lr * grads[3])\n",
        "        w3.assign_sub(lr * grads[4])\n",
        "        b3.assign_sub(lr * grads[5])\n",
        "\n",
        "        if step % 100 == 0:\n",
        "            print(epoch, step, 'loss:', loss.numpy())\n",
        "\n",
        "    return loss.numpy()\n",
        "\n",
        "\n",
        "def train(epochs):\n",
        "    losses = []\n",
        "    train_dataset = load_data()\n",
        "    w1, b1, w2, b2, w3, b3 = init_paramaters()\n",
        "    for epoch in range(epochs):\n",
        "        loss = train_epoch(epoch, train_dataset, w1, b1, w2, b2, w3, b3, lr=0.001)\n",
        "        losses.append(loss)\n",
        "\n",
        "    x = [i for i in range(0, epochs)]\n",
        "    # 绘制曲线\n",
        "    plt.plot(x, losses, color='blue', marker='s', label='training')\n",
        "    plt.xlabel('Epoch')\n",
        "    plt.ylabel('MSE')\n",
        "    plt.legend()\n",
        "    #plt.savefig('Forward propagation training error curve of MNIST dataset.png')\n",
        "    plt.show()\n",
        "    #plt.close()\n",
        "\n",
        "\n",
        "if __name__ == '__main__':\n",
        "    train(epochs=20)"
      ],
      "execution_count": null,
      "outputs": [
        {
          "output_type": "stream",
          "text": [
            "0 0 loss: 0.26686758\n",
            "0 100 loss: 0.20905569\n",
            "0 200 loss: 0.16947521\n",
            "1 0 loss: 0.15077676\n",
            "1 100 loss: 0.17227365\n",
            "1 200 loss: 0.14771757\n",
            "2 0 loss: 0.13494398\n",
            "2 100 loss: 0.1572316\n",
            "2 200 loss: 0.13470753\n",
            "3 0 loss: 0.12395407\n",
            "3 100 loss: 0.14582612\n",
            "3 200 loss: 0.12488463\n",
            "4 0 loss: 0.11548152\n",
            "4 100 loss: 0.13682006\n",
            "4 200 loss: 0.11717496\n",
            "5 0 loss: 0.10875795\n",
            "5 100 loss: 0.12948671\n",
            "5 200 loss: 0.11090823\n",
            "6 0 loss: 0.1032553\n",
            "6 100 loss: 0.123416364\n",
            "6 200 loss: 0.10570183\n",
            "7 0 loss: 0.09868697\n",
            "7 100 loss: 0.118327685\n",
            "7 200 loss: 0.10132194\n",
            "8 0 loss: 0.09480812\n",
            "8 100 loss: 0.11395856\n",
            "8 200 loss: 0.09758677\n",
            "9 0 loss: 0.091462106\n",
            "9 100 loss: 0.11017771\n",
            "9 200 loss: 0.094314724\n",
            "10 0 loss: 0.08855742\n",
            "10 100 loss: 0.1068726\n",
            "10 200 loss: 0.091440536\n",
            "11 0 loss: 0.08601058\n",
            "11 100 loss: 0.10394647\n",
            "11 200 loss: 0.08887637\n",
            "12 0 loss: 0.08374706\n",
            "12 100 loss: 0.1013396\n",
            "12 200 loss: 0.086561635\n",
            "13 0 loss: 0.08171872\n",
            "13 100 loss: 0.09898337\n",
            "13 200 loss: 0.08446791\n",
            "14 0 loss: 0.07989442\n",
            "14 100 loss: 0.096828625\n",
            "14 200 loss: 0.082562655\n",
            "15 0 loss: 0.0782419\n",
            "15 100 loss: 0.09485755\n",
            "15 200 loss: 0.08081792\n",
            "16 0 loss: 0.07671867\n",
            "16 100 loss: 0.093050174\n",
            "16 200 loss: 0.07920598\n",
            "17 0 loss: 0.07531428\n",
            "17 100 loss: 0.091378264\n",
            "17 200 loss: 0.07771689\n",
            "18 0 loss: 0.07402082\n",
            "18 100 loss: 0.08982915\n",
            "18 200 loss: 0.076338895\n",
            "19 0 loss: 0.07281957\n",
            "19 100 loss: 0.08838948\n",
            "19 200 loss: 0.07505983\n"
          ],
          "name": "stdout"
        },
        {
          "output_type": "stream",
          "text": [
            "findfont: Font family ['STKaiti'] not found. Falling back to DejaVu Sans.\n"
          ],
          "name": "stderr"
        },
        {
          "output_type": "display_data",
          "data": {
            "image/png": "[encoded data removed]",
            "text/plain": [
              "<Figure size 432x288 with 1 Axes>"
            ]
          },
          "metadata": {
            "tags": [],
            "needs_background": "light"
          }
        }
      ]
    },
    {
      "cell_type": "code",
      "metadata": {
        "colab": {
          "base_uri": "https://localhost:8080/"
        },
        "id": "D7-eYvjTnVAg",
        "outputId": "a54e9c46-683c-4019-e5b0-8fa1ea04347c"
      },
      "source": [
        "import tensorflow as tf\n",
        "a=tf.random.normal([4,35,4])\n",
        "b=tf.random.normal([4,35,4])\n",
        "c=tf.concat([a,b], axis=2)\n",
        "c.shape\n",
        "\n",
        "a=tf.random.normal([35,8])\n",
        "b=tf.random.normal([35,8])\n",
        "#c=tf.stack([a,b],axis=-1)\n",
        "c=tf.concat([a,b],axis=0)\n",
        "c.shape"
      ],
      "execution_count": null,
      "outputs": [
        {
          "output_type": "execute_result",
          "data": {
            "text/plain": [
              "TensorShape([70, 8])"
            ]
          },
          "metadata": {
            "tags": []
          },
          "execution_count": 8
        }
      ]
    },
    {
      "cell_type": "code",
      "metadata": {
        "colab": {
          "base_uri": "https://localhost:8080/"
        },
        "id": "KudEeVggtqba",
        "outputId": "629b8174-eb0e-4a46-ef5b-e4dd03507b91"
      },
      "source": [
        "import tensorflow as tf\n",
        "x=tf.random.normal([10,35,8])\n",
        "#result=tf.split(x,axis=0,num_or_size_splits=[4,2,2,2])\n",
        "result=tf.unstack(x,axis=0)\n",
        "print(len(result))\n",
        "print(result[2].shape)"
      ],
      "execution_count": null,
      "outputs": [
        {
          "output_type": "stream",
          "text": [
            "10\n",
            "(35, 8)\n"
          ],
          "name": "stdout"
        }
      ]
    },
    {
      "cell_type": "code",
      "metadata": {
        "colab": {
          "base_uri": "https://localhost:8080/"
        },
        "id": "bKY-3pLdvGO1",
        "outputId": "daa18bb8-7d0c-474f-8175-1136add21f5d"
      },
      "source": [
        "import tensorflow as tf\n",
        "import numpy as np\n",
        "x=tf.ones([2,2])\n",
        "y=tf.norm(x,ord=np.inf)\n",
        "y.numpy()\n",
        "\n",
        "x=tf.random.normal([4,10])\n",
        "y=tf.reduce_max(x)\n",
        "y.numpy()"
      ],
      "execution_count": null,
      "outputs": [
        {
          "output_type": "execute_result",
          "data": {
            "text/plain": [
              "2.5355287"
            ]
          },
          "metadata": {
            "tags": []
          },
          "execution_count": 26
        }
      ]
    },
    {
      "cell_type": "code",
      "metadata": {
        "colab": {
          "base_uri": "https://localhost:8080/"
        },
        "id": "KrUsKbnPxa9Z",
        "outputId": "08bca4f2-c0e5-4bd6-ece8-bef07a4a83f6"
      },
      "source": [
        "import tensorflow as tf\n",
        "from tensorflow import keras\n",
        "out=tf.random.normal([4,10])\n",
        "y=tf.constant([1,2,2,0])\n",
        "y=tf.one_hot(y,depth=10)\n",
        "#print(y)\n",
        "#print(' ')\n",
        "loss=keras.losses.mse(y,out);\n",
        "#print(loss)\n",
        "#print(' ')\n",
        "loss=tf.reduce_mean(loss)\n",
        "loss.numpy()\n",
        "\n",
        "x=tf.random.normal([4,10])\n",
        "y=tf.reduce_sum(x,axis=-1)\n",
        "y.shape,y.numpy()\n",
        "\n",
        "out=tf.random.normal([2,10])\n",
        "out=tf.nn.softmax(out,axis=1)\n",
        "#print(out.numpy())\n",
        "pred=tf.argmax(out,axis=1)\n",
        "pred.numpy()"
      ],
      "execution_count": null,
      "outputs": [
        {
          "output_type": "stream",
          "text": [
            "[[0.10525482 0.03469142 0.12209468 0.14056994 0.07690968 0.1111279\n",
            "  0.06522786 0.14334236 0.19170308 0.00907823]\n",
            " [0.1050864  0.19786377 0.01347875 0.01869519 0.1210612  0.02939535\n",
            "  0.34654975 0.02064707 0.02491562 0.12230696]]\n"
          ],
          "name": "stdout"
        },
        {
          "output_type": "execute_result",
          "data": {
            "text/plain": [
              "array([8, 6])"
            ]
          },
          "metadata": {
            "tags": []
          },
          "execution_count": 36
        }
      ]
    },
    {
      "cell_type": "code",
      "metadata": {
        "colab": {
          "base_uri": "https://localhost:8080/"
        },
        "id": "ZnXYSwYXqKpg",
        "outputId": "cf3b0517-1ce0-478e-fcb2-3d9c7ef007e4"
      },
      "source": [
        "import tensorflow as tf\n",
        "out=tf.random.normal([100,10])\n",
        "out=tf.nn.softmax(out,axis=1)\n",
        "pred=tf.argmax(out,axis=1)\n",
        "y=tf.random.uniform([100],maxval=10,dtype=tf.int64)\n",
        "z=tf.equal(y,pred)\n",
        "z=tf.cast(z,tf.int32)\n",
        "result=tf.reduce_sum(z)\n",
        "result"
      ],
      "execution_count": null,
      "outputs": [
        {
          "output_type": "execute_result",
          "data": {
            "text/plain": [
              "<tf.Tensor: shape=(), dtype=int32, numpy=10>"
            ]
          },
          "metadata": {
            "tags": []
          },
          "execution_count": 10
        }
      ]
    },
    {
      "cell_type": "code",
      "metadata": {
        "colab": {
          "base_uri": "https://localhost:8080/"
        },
        "id": "Qr1_L750v-ve",
        "outputId": "64a5ffce-e76e-4232-90b4-8e72deda75a3"
      },
      "source": [
        "import tensorflow as tf\n",
        "a=tf.constant([1,2,3,4,5,6])\n",
        "b=tf.constant([7,8,1,6])\n",
        "b=tf.pad(b,[[0,2]])\n",
        "b\n",
        "tf.stack([a,b],axis=0)"
      ],
      "execution_count": null,
      "outputs": [
        {
          "output_type": "execute_result",
          "data": {
            "text/plain": [
              "<tf.Tensor: shape=(2, 6), dtype=int32, numpy=\n",
              "array([[1, 2, 3, 4, 5, 6],\n",
              "       [7, 8, 1, 6, 0, 0]], dtype=int32)>"
            ]
          },
          "metadata": {
            "tags": []
          },
          "execution_count": 12
        }
      ]
    },
    {
      "cell_type": "code",
      "metadata": {
        "colab": {
          "base_uri": "https://localhost:8080/"
        },
        "id": "e3wT2HnsxT2F",
        "outputId": "2232a2a0-f98c-452f-c74e-bd4e2f8c058a"
      },
      "source": [
        "import tensorflow as tf\n",
        "from tensorflow import keras\n",
        "total_words=10000\n",
        "max_review_len=80\n",
        "embedding_len=100\n",
        "\n",
        "(x_train,y_train),(x_test,y_test)=keras.datasets.imdb.load_data(num_words=total_words)\n",
        "\n",
        "x_train=keras.preprocessing.sequence.pad_sequences(x_train,maxlen=max_review_len,truncating='post',padding='post')\n",
        "x_test=keras.preprocessing.sequence.pad_sequences(x_test,maxlen=max_review_len,truncating='post',padding='post')\n",
        "print(x_train.shape,x_test.shape)\n",
        "x_train[50]"
      ],
      "execution_count": null,
      "outputs": [
        {
          "output_type": "stream",
          "text": [
            "<string>:6: VisibleDeprecationWarning: Creating an ndarray from ragged nested sequences (which is a list-or-tuple of lists-or-tuples-or ndarrays with different lengths or shapes) is deprecated. If you meant to do this, you must specify 'dtype=object' when creating the ndarray\n",
            "/usr/local/lib/python3.6/dist-packages/tensorflow/python/keras/datasets/imdb.py:159: VisibleDeprecationWarning: Creating an ndarray from ragged nested sequences (which is a list-or-tuple of lists-or-tuples-or ndarrays with different lengths or shapes) is deprecated. If you meant to do this, you must specify 'dtype=object' when creating the ndarray\n",
            "  x_train, y_train = np.array(xs[:idx]), np.array(labels[:idx])\n"
          ],
          "name": "stderr"
        },
        {
          "output_type": "stream",
          "text": [
            "(25000, 80) (25000, 80)\n"
          ],
          "name": "stdout"
        },
        {
          "output_type": "stream",
          "text": [
            "/usr/local/lib/python3.6/dist-packages/tensorflow/python/keras/datasets/imdb.py:160: VisibleDeprecationWarning: Creating an ndarray from ragged nested sequences (which is a list-or-tuple of lists-or-tuples-or ndarrays with different lengths or shapes) is deprecated. If you meant to do this, you must specify 'dtype=object' when creating the ndarray\n",
            "  x_test, y_test = np.array(xs[idx:]), np.array(labels[idx:])\n"
          ],
          "name": "stderr"
        },
        {
          "output_type": "execute_result",
          "data": {
            "text/plain": [
              "array([   1,   13,  165,  219,   14,   20,   33,    6,  750,   17,  515,\n",
              "         17,   13, 2675,    4,    2,   61,  278,   59,  301,  107,  715,\n",
              "         13,   69,  115,  557,   33,    6,  750,  159,   42,  237,   57,\n",
              "          2,   17,  515,   17,   13,  557,  148,  715,   13,  144,   28,\n",
              "         43,    2, 5458, 5458,    8,   61, 2208,    5,  825,  344,   21,\n",
              "         57,    2,   13,  435,   11,    5,  296,    4,   20,   14,   20,\n",
              "        161,   97,  259,   11,    4,  750,  462,   24,   60,  280,   24,\n",
              "         60,    2,  669], dtype=int32)"
            ]
          },
          "metadata": {
            "tags": []
          },
          "execution_count": 14
        }
      ]
    },
    {
      "cell_type": "code",
      "metadata": {
        "colab": {
          "base_uri": "https://localhost:8080/",
          "height": 299
        },
        "id": "xKngTdfpz4NS",
        "outputId": "ce321ef5-5aad-43c8-ed6f-65b643991cbe"
      },
      "source": [
        "import tensorflow as tf\n",
        "import matplotlib.pyplot as plt\n",
        "%matplotlib inline\n",
        "x=tf.random.normal([4,28,28,3])\n",
        "x=tf.pad(x,[[0,0],[2,2],[2,2],[0,0]])\n",
        "plt.imshow(x[2])"
      ],
      "execution_count": null,
      "outputs": [
        {
          "output_type": "stream",
          "text": [
            "Clipping input data to the valid range for imshow with RGB data ([0..1] for floats or [0..255] for integers).\n"
          ],
          "name": "stderr"
        },
        {
          "output_type": "execute_result",
          "data": {
            "text/plain": [
              "<matplotlib.image.AxesImage at 0x7f7ab55b3b70>"
            ]
          },
          "metadata": {
            "tags": []
          },
          "execution_count": 7
        },
        {
          "output_type": "display_data",
          "data": {
            "image/png": "[encoded data removed]",
            "text/plain": [
              "<Figure size 432x288 with 1 Axes>"
            ]
          },
          "metadata": {
            "tags": [],
            "needs_background": "light"
          }
        }
      ]
    },
    {
      "cell_type": "code",
      "metadata": {
        "colab": {
          "base_uri": "https://localhost:8080/"
        },
        "id": "ObOdFKd-1fc9",
        "outputId": "49fc767b-c42d-46e1-fea2-6e3ead309f3b"
      },
      "source": [
        "import tensorflow as tf\n",
        "x=tf.random.normal([4,28,28,3])\n",
        "x=tf.tile(x,[2,3,3,1])\n",
        "x.shape"
      ],
      "execution_count": null,
      "outputs": [
        {
          "output_type": "execute_result",
          "data": {
            "text/plain": [
              "TensorShape([8, 84, 84, 3])"
            ]
          },
          "metadata": {
            "tags": []
          },
          "execution_count": 18
        }
      ]
    },
    {
      "cell_type": "code",
      "metadata": {
        "colab": {
          "base_uri": "https://localhost:8080/"
        },
        "id": "ein-mtrS-c1S",
        "outputId": "eb7b17e5-ca16-4820-80a5-3427aa911cfc"
      },
      "source": [
        "import tensorflow as tf\n",
        "x=tf.range(9)\n",
        "tf.maximum(x,2)\n",
        "tf.minimum(x,7)\n",
        "tf.minimum(tf.maximum(x,2),7)\n",
        "tf.clip_by_value(x,2,7)\n",
        "\n",
        "x=tf.random.uniform([4,38,5],maxval=100)\n",
        "tf.gather(x,[0,3,8,4],axis=1)\n",
        "tf.gather_nd(x,[[1,1],[2,2],[3,3]])\n",
        "tf.gather_nd(x,[[1,1,2],[2,2,3],[3,3,4]])\n",
        "mask=[True,False,False,True]\n",
        "tf.boolean_mask(x,mask,axis=0)\n",
        "\n",
        "a=tf.ones([3,3])\n",
        "b=tf.zeros([3,3])\n",
        "cond=tf.constant([[True,False,False],[False,True,False],[False,False,True]])\n",
        "tf.where(cond)\n",
        "\n",
        "x=tf.random.normal([3,3])\n",
        "mask=x>0\n",
        "mask\n",
        "tf.where(mask)\n",
        "tf.boolean_mask(x,mask)\n",
        "tf.gather_nd(x,tf.where(mask))"
      ],
      "execution_count": null,
      "outputs": [
        {
          "output_type": "execute_result",
          "data": {
            "text/plain": [
              "<tf.Tensor: shape=(6,), dtype=float32, numpy=\n",
              "array([0.3247041 , 2.5249197 , 0.6094712 , 0.46518925, 0.887071  ,\n",
              "       0.14237033], dtype=float32)>"
            ]
          },
          "metadata": {
            "tags": []
          },
          "execution_count": 18
        }
      ]
    },
    {
      "cell_type": "code",
      "metadata": {
        "id": "qnbXwBCwA18h",
        "colab": {
          "base_uri": "https://localhost:8080/"
        },
        "outputId": "e8ea130c-5317-4a5b-9235-71dba6afad5e"
      },
      "source": [
        "import tensorflow as tf\n",
        "indices=tf.constant([[4],[3],[1],[7]])\n",
        "updates=tf.constant([4.4,3.3,1.1,7.7])\n",
        "tf.scatter_nd(indices,updates,[8])\n",
        "\n",
        "indices=tf.constant([[1],[3]])\n",
        "updates=tf.constant([\n",
        "          [[5,5,5,5],[6,6,6,6],[7,7,7,7],[8,8,8,8]],\n",
        "          [[1,1,1,1],[2,2,2,2],[3,3,3,3],[4,4,4,4]]\n",
        "])\n",
        "tf.scatter_nd(indices,updates,[4,4,4])"
      ],
      "execution_count": null,
      "outputs": [
        {
          "output_type": "execute_result",
          "data": {
            "text/plain": [
              "<tf.Tensor: shape=(4, 4, 4), dtype=int32, numpy=\n",
              "array([[[0, 0, 0, 0],\n",
              "        [0, 0, 0, 0],\n",
              "        [0, 0, 0, 0],\n",
              "        [0, 0, 0, 0]],\n",
              "\n",
              "       [[5, 5, 5, 5],\n",
              "        [6, 6, 6, 6],\n",
              "        [7, 7, 7, 7],\n",
              "        [8, 8, 8, 8]],\n",
              "\n",
              "       [[0, 0, 0, 0],\n",
              "        [0, 0, 0, 0],\n",
              "        [0, 0, 0, 0],\n",
              "        [0, 0, 0, 0]],\n",
              "\n",
              "       [[1, 1, 1, 1],\n",
              "        [2, 2, 2, 2],\n",
              "        [3, 3, 3, 3],\n",
              "        [4, 4, 4, 4]]], dtype=int32)>"
            ]
          },
          "metadata": {
            "tags": []
          },
          "execution_count": 3
        }
      ]
    },
    {
      "cell_type": "code",
      "metadata": {
        "colab": {
          "base_uri": "https://localhost:8080/",
          "height": 389
        },
        "id": "J4tSZVFJZJkh",
        "outputId": "89dac44a-79f0-4803-98ff-459b4ebfc701"
      },
      "source": [
        "import tensorflow as tf\n",
        "import matplotlib.pyplot as plt\n",
        "from mpl_toolkits.mplot3d import Axes3D\n",
        "%matplotlib inline\n",
        "x=tf.linspace(-8.,8,100)\n",
        "y=tf.linspace(-8.,8,100)\n",
        "x,y=tf.meshgrid(x,y)\n",
        "x.shape,y.shape\n",
        "z=tf.sqrt(x**2+y**2)\n",
        "z=tf.sin(z)/z\n",
        "fig=plt.figure()\n",
        "ax=Axes3D(fig)\n",
        "ax.contour3D(x.numpy(),y.numpy(),z.numpy(),50)\n"
      ],
      "execution_count": null,
      "outputs": [
        {
          "output_type": "stream",
          "text": [
            "/usr/local/lib/python3.6/dist-packages/numpy/core/_asarray.py:136: VisibleDeprecationWarning: Creating an ndarray from ragged nested sequences (which is a list-or-tuple of lists-or-tuples-or ndarrays with different lengths or shapes) is deprecated. If you meant to do this, you must specify 'dtype=object' when creating the ndarray\n",
            "  return array(a, dtype, copy=False, order=order, subok=True)\n"
          ],
          "name": "stderr"
        },
        {
          "output_type": "execute_result",
          "data": {
            "text/plain": [
              "<matplotlib.contour.QuadContourSet at 0x7f7ab76ed2e8>"
            ]
          },
          "metadata": {
            "tags": []
          },
          "execution_count": 6
        },
        {
          "output_type": "display_data",
          "data": {
            "image/png": "[encoded data removed]",
            "text/plain": [
              "<Figure size 432x288 with 1 Axes>"
            ]
          },
          "metadata": {
            "tags": [],
            "needs_background": "light"
          }
        }
      ]
    },
    {
      "cell_type": "code",
      "metadata": {
        "colab": {
          "base_uri": "https://localhost:8080/"
        },
        "id": "BScaHMG9bu4V",
        "outputId": "93aa40d8-a0ad-4657-ddad-1a544642723c"
      },
      "source": [
        "import tensorflow as tf\n",
        "from tensorflow import keras\n",
        "from tensorflow.keras import datasets\n",
        "\n",
        "(x,y),(x_test,y_test)=datasets.mnist.load_data()\n",
        "print(f'x:{x.shape},y:{y.shape},x_test:{x_test.shape},y_test:{y_test}')"
      ],
      "execution_count": null,
      "outputs": [
        {
          "output_type": "stream",
          "text": [
            "x:(60000, 28, 28),y:(60000,),x_test:(10000, 28, 28),y_test:[7 2 1 ... 4 5 6]\n"
          ],
          "name": "stdout"
        }
      ]
    },
    {
      "cell_type": "code",
      "metadata": {
        "colab": {
          "base_uri": "https://localhost:8080/"
        },
        "id": "hQzK4MghmUgu",
        "outputId": "d68327ba-fde3-4ae2-acd2-3cc7929618fa"
      },
      "source": [
        "import numpy as np\n",
        "K=np.array([[6e-3/6e-6,0,500],[0,6e-3/6e-6,500],[0,0,1]])\n",
        "Pc=np.array([[3],[2],[8]])\n",
        "p=K@Pc\n",
        "p\n",
        "m=np.zeros(2)\n",
        "m[0]=p[0]/p[-1]\n",
        "m[1]=p[1]/p[-1]\n",
        "m"
      ],
      "execution_count": null,
      "outputs": [
        {
          "output_type": "execute_result",
          "data": {
            "text/plain": [
              "array([875., 750.])"
            ]
          },
          "metadata": {
            "tags": []
          },
          "execution_count": 6
        }
      ]
    },
    {
      "cell_type": "code",
      "metadata": {
        "colab": {
          "base_uri": "https://localhost:8080/"
        },
        "id": "RIxJxjvWy6pZ",
        "outputId": "6d273120-21fe-4cc9-ce51-b1c20edaef88"
      },
      "source": [
        "import tensorflow as tf\n",
        "from tensorflow import keras\n",
        "from keras import layers\n",
        "x=tf.random.normal([2,784])\n",
        "w1=tf.Variable(tf.random.truncated_normal([784,256],stddev=0.1))\n",
        "b1=tf.Variable(tf.zeros([256]))\n",
        "o1=tf.matmul(x,w1)+b1\n",
        "o1=tf.nn.relu(o1)\n",
        "o1\n",
        "fc=layers.Dense(256,activation=tf.nn.relu)\n",
        "o2=fc(x)\n",
        "diff=keras.losses.mse(o1,o2)\n",
        "diff=tf.reduce_mean(diff)\n",
        "diff\n",
        "fc.kernel\n",
        "fc.bias\n",
        "fc.trainable_variables\n",
        "fc.non_trainable_variables"
      ],
      "execution_count": null,
      "outputs": [
        {
          "output_type": "execute_result",
          "data": {
            "text/plain": [
              "[]"
            ]
          },
          "metadata": {
            "tags": []
          },
          "execution_count": 19
        }
      ]
    },
    {
      "cell_type": "code",
      "metadata": {
        "colab": {
          "base_uri": "https://localhost:8080/"
        },
        "id": "BLlE4RiCyEyR",
        "outputId": "82761c6e-fe57-4c1a-dcbc-77e15ddb8ba2"
      },
      "source": [
        "import tensorflow as tf\n",
        "from tensorflow import keras\n",
        "from keras import layers\n",
        "model=keras.Sequential([\n",
        "  layers.Dense(256,activation=tf.nn.relu),\n",
        "  layers.Dense(128,activation=tf.nn.relu),\n",
        "  layers.Dense(64,activation=tf.nn.relu),\n",
        "  layers.Dense(10,activation=None)                      \n",
        "])\n",
        "x=tf.random.normal([4,28*28])\n",
        "out=model(x)\n",
        "out.numpy"
      ],
      "execution_count": null,
      "outputs": [
        {
          "output_type": "execute_result",
          "data": {
            "text/plain": [
              "<bound method _EagerTensorBase.numpy of <tf.Tensor: shape=(4, 10), dtype=float32, numpy=\n",
              "array([[-1.0855005 , -1.109488  , -0.50466144, -1.5526178 , -0.23984975,\n",
              "         0.10227609, -0.15505853, -0.26748967, -1.5510427 ,  0.13165459],\n",
              "       [-1.1124064 , -0.37781012,  0.11942632, -0.6045327 , -0.16370173,\n",
              "         0.24106933, -0.6963109 , -0.43640745, -0.6926343 , -0.0061998 ],\n",
              "       [-0.9757393 , -0.0682045 ,  0.9213968 , -1.0092695 ,  0.54825604,\n",
              "         0.4916489 ,  0.63051957, -0.6639374 , -1.1755273 , -0.5828029 ],\n",
              "       [-0.4376733 , -0.17692387, -0.31356674, -2.6123693 , -0.30066654,\n",
              "         0.43532   ,  0.9178762 , -0.32742947, -0.2914963 ,  0.70408124]],\n",
              "      dtype=float32)>>"
            ]
          },
          "metadata": {
            "tags": []
          },
          "execution_count": 1
        }
      ]
    },
    {
      "cell_type": "code",
      "metadata": {
        "colab": {
          "base_uri": "https://localhost:8080/",
          "height": 281
        },
        "id": "mSDoE9I61eAW",
        "outputId": "f6d1eb0c-03ce-42f8-dea2-d28ee6571dda"
      },
      "source": [
        "import tensorflow as tf\n",
        "import matplotlib.pyplot as plt\n",
        "%matplotlib inline\n",
        "x=tf.linspace(-6,6,100)\n",
        "#y=tf.nn.sigmoid(x)\n",
        "#y=tf.nn.relu(x)\n",
        "#y=tf.nn.leaky_relu(x,alpha=0.2)\n",
        "y=tf.nn.tanh(x)\n",
        "plt.plot(x,y)\n"
      ],
      "execution_count": null,
      "outputs": [
        {
          "output_type": "execute_result",
          "data": {
            "text/plain": [
              "[<matplotlib.lines.Line2D at 0x7fe1a92ba780>]"
            ]
          },
          "metadata": {
            "tags": []
          },
          "execution_count": 7
        },
        {
          "output_type": "display_data",
          "data": {
            "image/png": "[encoded data removed]",
            "text/plain": [
              "<Figure size 432x288 with 1 Axes>"
            ]
          },
          "metadata": {
            "tags": [],
            "needs_background": "light"
          }
        }
      ]
    },
    {
      "cell_type": "code",
      "metadata": {
        "colab": {
          "base_uri": "https://localhost:8080/"
        },
        "id": "LPkP-DsVIFj8",
        "outputId": "dfbe8721-2cc9-4079-9d01-ebf9e79692b9"
      },
      "source": [
        "import tensorflow as tf\n",
        "from tensorflow import keras\n",
        "z=tf.constant([2.,1.,0.1])\n",
        "tf.nn.softmax(z)\n",
        "\n",
        "z=tf.random.normal([2,10])\n",
        "y=tf.constant([1,3])\n",
        "y_onehot=tf.one_hot(y,depth=10)\n",
        "loss=keras.losses.categorical_crossentropy(y_onehot,z,from_logits=True)\n",
        "loss=tf.reduce_mean(loss)\n",
        "loss\n",
        "\n",
        "x=tf.linspace(-6,6,10)\n",
        "tf.tanh(x)\n",
        "x"
      ],
      "execution_count": null,
      "outputs": [
        {
          "output_type": "execute_result",
          "data": {
            "text/plain": [
              "<tf.Tensor: shape=(10,), dtype=float64, numpy=\n",
              "array([-6.        , -4.66666667, -3.33333333, -2.        , -0.66666667,\n",
              "        0.66666667,  2.        ,  3.33333333,  4.66666667,  6.        ])>"
            ]
          },
          "metadata": {
            "tags": []
          },
          "execution_count": 4
        }
      ]
    },
    {
      "cell_type": "code",
      "metadata": {
        "colab": {
          "base_uri": "https://localhost:8080/"
        },
        "id": "eLTZJ1dbM1b1",
        "outputId": "83075e89-d327-4dcc-8fd8-9e98c88f1ca5"
      },
      "source": [
        "o=tf.random.normal([2,10])\n",
        "y=tf.constant([1,3])\n",
        "y_onehot=tf.one_hot(y,depth=10)\n",
        "loss=keras.losses.MSE(y_onehot,o)\n",
        "loss\n",
        "loss=tf.reduce_mean(loss)\n",
        "loss"
      ],
      "execution_count": null,
      "outputs": [
        {
          "output_type": "execute_result",
          "data": {
            "text/plain": [
              "<tf.Tensor: shape=(), dtype=float32, numpy=0.81247056>"
            ]
          },
          "metadata": {
            "tags": []
          },
          "execution_count": 6
        }
      ]
    },
    {
      "cell_type": "code",
      "metadata": {
        "colab": {
          "base_uri": "https://localhost:8080/",
          "height": 1000
        },
        "id": "BzUTU9OTbQfG",
        "outputId": "c3a8cdf2-bc1b-4bbd-dec9-9367d109cc4f"
      },
      "source": [
        "import pathlib\n",
        "import os\n",
        "import matplotlib.pyplot as plt\n",
        "import pandas as pd\n",
        "import seaborn as sns\n",
        "import tensorflow as tf\n",
        "from tensorflow import keras\n",
        "from tensorflow.keras import layers,losses\n",
        "\n",
        "print(tf.__version__)\n",
        "dataset_path=keras.utils.get_file('auto-mpg.data','http://archive.ics.uci.edu/ml/machine-learning-databases/auto-mpg/auto-mpg.data')\n",
        "column_names=['MPG','Cylinders','Displacement','Horsepower','Weight','Acceleration','Model Year','Origin']\n",
        "raw_dataset=pd.read_csv(dataset_path,names=column_names,na_values='?',comment='\\t',sep=' ',skipinitialspace=True)\n",
        "dataset=raw_dataset.copy()\n",
        "dataset.tail()\n",
        "dataset.head()\n",
        "dataset\n",
        "\n",
        "dataset.isna().sum()\n",
        "dataset=dataset.dropna()\n",
        "dataset.isna().sum()\n",
        "dataset\n",
        "\n",
        "origin=dataset.pop('Origin')\n",
        "dataset['USA']=(origin==1)*1.0\n",
        "dataset['Europe']=(origin==2)*1.0\n",
        "dataset['Japan']=(origin==3)*1.0\n",
        "dataset\n",
        "\n",
        "train_dataset=dataset.sample(frac=0.8,random_state=0)\n",
        "test_dataset=dataset.drop(train_dataset.index)\n",
        "\n",
        "sns.pairplot(train_dataset[['Cylinders','Displacement','Weight','MPG']],diag_kind='kde')\n",
        "train_stats=train_dataset.describe()\n",
        "train_stats.pop('MPG')\n",
        "train_stats=train_stats.transpose()\n",
        "train_stats\n",
        "\n",
        "train_labels=train_dataset.pop('MPG')\n",
        "test_labels=test_dataset.pop('MPG')\n",
        "\n",
        "def norm(x):\n",
        "  return ((x-train_stats['mean'])/train_stats['std'])\n",
        "normed_train_data=norm(train_dataset)\n",
        "normed_test_data=norm(test_dataset)\n",
        "\n",
        "print(normed_train_data.shape,train_labels.shape)\n",
        "print(normed_test_data.shape,test_labels.shape)\n",
        "\n",
        "class Network(keras.Model):\n",
        "  def __init__(self):\n",
        "    print('enter init!')\n",
        "    super(Network,self).__init__()\n",
        "    self.fc1=layers.Dense(64,activation='relu')\n",
        "    self.fc2=layers.Dense(64,activation='relu')\n",
        "    self.fc3=layers.Dense(1)\n",
        "\n",
        "  def call(self,inputs,training=None,mask=None):\n",
        "    x=self.fc1(inputs)\n",
        "    x=self.fc2(x)\n",
        "    x=self.fc3(x)\n",
        "\n",
        "    return x\n",
        "\n",
        "model=Network()\n",
        "model.build(input_shape=(None,9))\n",
        "model.summary()\n",
        "\n",
        "optimizer=tf.keras.optimizers.RMSprop(0.001)\n",
        "train_db=tf.data.Dataset.from_tensor_slices((normed_train_data.values,train_labels.values))\n",
        "train_db=train_db.shuffle(100).batch(32)\n",
        "\n",
        "train_mae_losses=[]\n",
        "test_mae_losses=[]\n",
        "for epoch in range(200):\n",
        "  for step,(x,y) in enumerate(train_db):\n",
        "    with tf.GradientTape() as tape:\n",
        "      out=model(x)\n",
        "      loss=tf.reduce_mean(losses.MSE(y,out))\n",
        "      mae_loss=tf.reduce_mean(losses.MAE(y,out))\n",
        "\n",
        "    if step%10==0:\n",
        "      print(epoch,step,float(loss))\n",
        "\n",
        "    grads=tape.gradient(loss,model.trainable_variables)\n",
        "    optimizer.apply_gradients(zip(grads,model.trainable_variables))\n",
        "\n",
        "  train_mae_losses.append(float(mae_loss))\n",
        "  out=model(tf.constant(normed_test_data.values))\n",
        "  test_mae_losses.append(tf.reduce_mean(losses.MAE(test_labels,out)))\n",
        "\n",
        "plt.figure()\n",
        "plt.xlabel('Epoch')\n",
        "plt.ylabel('MAE')\n",
        "plt.plot(train_mae_losses,label='Train')\n",
        "\n",
        "plt.plot(test_mae_losses,label='Test')\n",
        "plt.legend()\n",
        " \n",
        "# plt.ylim([0,10])\n",
        "plt.legend()\n",
        "#plt.savefig('auto.svg')\n",
        "plt.show() "
      ],
      "execution_count": null,
      "outputs": [
        {
          "output_type": "stream",
          "text": [
            "2.4.0\n",
            "(314, 9) (314,)\n",
            "(78, 9) (78,)\n",
            "enter init!\n",
            "Model: \"network_1\"\n",
            "_________________________________________________________________\n",
            "Layer (type)                 Output Shape              Param #   \n",
            "=================================================================\n",
            "dense_3 (Dense)              multiple                  640       \n",
            "_________________________________________________________________\n",
            "dense_4 (Dense)              multiple                  4160      \n",
            "_________________________________________________________________\n",
            "dense_5 (Dense)              multiple                  65        \n",
            "=================================================================\n",
            "Total params: 4,865\n",
            "Trainable params: 4,865\n",
            "Non-trainable params: 0\n",
            "_________________________________________________________________\n",
            "0 0 598.5247802734375\n",
            "1 0 524.086181640625\n",
            "2 0 508.7421569824219\n",
            "3 0 481.2759704589844\n",
            "4 0 312.18304443359375\n",
            "5 0 270.03314208984375\n",
            "6 0 239.16473388671875\n",
            "7 0 152.76309204101562\n",
            "8 0 95.72562408447266\n",
            "9 0 143.61805725097656\n",
            "10 0 154.88043212890625\n",
            "11 0 108.56535339355469\n",
            "12 0 95.13851928710938\n",
            "13 0 90.60612487792969\n",
            "14 0 92.16263580322266\n",
            "15 0 56.86045837402344\n",
            "16 0 88.96366882324219\n",
            "17 0 71.0025863647461\n",
            "18 0 104.7266845703125\n",
            "19 0 85.38902282714844\n",
            "20 0 76.64443969726562\n",
            "21 0 50.40814208984375\n",
            "22 0 45.83172607421875\n",
            "23 0 63.41453170776367\n",
            "24 0 54.28949737548828\n",
            "25 0 82.43913269042969\n",
            "26 0 67.91179656982422\n",
            "27 0 67.09222412109375\n",
            "28 0 62.32593536376953\n",
            "29 0 56.31147766113281\n",
            "30 0 68.91699981689453\n",
            "31 0 70.32698822021484\n",
            "32 0 58.794410705566406\n",
            "33 0 60.34032440185547\n",
            "34 0 96.3023910522461\n",
            "35 0 48.2943229675293\n",
            "36 0 71.84878540039062\n",
            "37 0 59.75199890136719\n",
            "38 0 83.1314697265625\n",
            "39 0 48.62435531616211\n",
            "40 0 48.2489013671875\n",
            "41 0 66.57389831542969\n",
            "42 0 56.4759521484375\n",
            "43 0 64.85315704345703\n",
            "44 0 58.76637268066406\n",
            "45 0 89.1318359375\n",
            "46 0 49.27238082885742\n",
            "47 0 72.48883056640625\n",
            "48 0 55.57132339477539\n",
            "49 0 58.038448333740234\n",
            "50 0 76.66547393798828\n",
            "51 0 59.669673919677734\n",
            "52 0 47.27455139160156\n",
            "53 0 68.8945541381836\n",
            "54 0 51.7018928527832\n",
            "55 0 48.66950225830078\n",
            "56 0 55.0999755859375\n",
            "57 0 67.91629028320312\n",
            "58 0 65.37510681152344\n",
            "59 0 64.03886413574219\n",
            "60 0 72.3790054321289\n",
            "61 0 72.12594604492188\n",
            "62 0 65.35320281982422\n",
            "63 0 72.89869689941406\n",
            "64 0 71.01705169677734\n",
            "65 0 55.12077331542969\n",
            "66 0 57.58726501464844\n",
            "67 0 61.73905563354492\n",
            "68 0 49.52594757080078\n",
            "69 0 80.56581115722656\n",
            "70 0 41.22029495239258\n",
            "71 0 58.41779708862305\n",
            "72 0 75.88826751708984\n",
            "73 0 34.455589294433594\n",
            "74 0 68.26639556884766\n",
            "75 0 65.31704711914062\n",
            "76 0 80.2374267578125\n",
            "77 0 65.97434997558594\n",
            "78 0 66.98500061035156\n",
            "79 0 58.41899108886719\n",
            "80 0 80.18788146972656\n",
            "81 0 46.81077575683594\n",
            "82 0 73.48435974121094\n",
            "83 0 59.14884948730469\n",
            "84 0 64.85423278808594\n",
            "85 0 57.982505798339844\n",
            "86 0 62.54248046875\n",
            "87 0 43.88290023803711\n",
            "88 0 100.39604949951172\n",
            "89 0 62.031009674072266\n",
            "90 0 62.927955627441406\n",
            "91 0 72.3561019897461\n",
            "92 0 61.34587860107422\n",
            "93 0 59.28398895263672\n",
            "94 0 81.66715240478516\n",
            "95 0 63.14651107788086\n",
            "96 0 80.09407043457031\n",
            "97 0 56.74363708496094\n",
            "98 0 80.91382598876953\n",
            "99 0 37.69813537597656\n",
            "100 0 74.64352416992188\n",
            "101 0 44.45242691040039\n",
            "102 0 63.647857666015625\n",
            "103 0 71.16886901855469\n",
            "104 0 69.60813903808594\n",
            "105 0 57.99867248535156\n",
            "106 0 66.54566192626953\n",
            "107 0 67.9815673828125\n",
            "108 0 71.49455261230469\n",
            "109 0 64.19499969482422\n",
            "110 0 67.0308837890625\n",
            "111 0 84.2720718383789\n",
            "112 0 55.302345275878906\n",
            "113 0 40.15875244140625\n",
            "114 0 69.78359985351562\n",
            "115 0 65.63162994384766\n",
            "116 0 49.98367691040039\n",
            "117 0 37.42808151245117\n",
            "118 0 46.89080810546875\n",
            "119 0 65.3665771484375\n",
            "120 0 57.27009582519531\n",
            "121 0 60.22875213623047\n",
            "122 0 57.23179626464844\n",
            "123 0 60.705238342285156\n",
            "124 0 87.64822387695312\n",
            "125 0 84.68939208984375\n",
            "126 0 60.663002014160156\n",
            "127 0 66.302734375\n",
            "128 0 64.10081481933594\n",
            "129 0 64.35253143310547\n",
            "130 0 50.94715881347656\n",
            "131 0 66.45521545410156\n",
            "132 0 51.82694625854492\n",
            "133 0 62.976234436035156\n",
            "134 0 71.20039367675781\n",
            "135 0 54.827720642089844\n",
            "136 0 77.93687438964844\n",
            "137 0 52.10127639770508\n",
            "138 0 43.58717346191406\n",
            "139 0 68.59711456298828\n",
            "140 0 57.19751739501953\n",
            "141 0 60.50437927246094\n",
            "142 0 51.11250305175781\n",
            "143 0 58.118385314941406\n",
            "144 0 73.61354064941406\n",
            "145 0 52.42851638793945\n",
            "146 0 35.379737854003906\n",
            "147 0 66.19541931152344\n",
            "148 0 60.05705261230469\n",
            "149 0 55.334957122802734\n",
            "150 0 57.718204498291016\n",
            "151 0 68.46855163574219\n",
            "152 0 50.97516632080078\n",
            "153 0 61.00170135498047\n",
            "154 0 45.52110290527344\n",
            "155 0 64.4247817993164\n",
            "156 0 67.56655883789062\n",
            "157 0 72.9735107421875\n",
            "158 0 61.234596252441406\n",
            "159 0 59.133384704589844\n",
            "160 0 62.05035400390625\n",
            "161 0 56.988643646240234\n",
            "162 0 50.5372428894043\n",
            "163 0 69.79650115966797\n",
            "164 0 80.10545349121094\n",
            "165 0 67.52156066894531\n",
            "166 0 69.15953063964844\n",
            "167 0 89.38037109375\n",
            "168 0 78.10552978515625\n",
            "169 0 56.68766784667969\n",
            "170 0 74.82640075683594\n",
            "171 0 48.925025939941406\n",
            "172 0 69.47853088378906\n",
            "173 0 50.62108612060547\n",
            "174 0 70.40122985839844\n",
            "175 0 71.206298828125\n",
            "176 0 83.23715209960938\n",
            "177 0 55.4993896484375\n",
            "178 0 81.1855697631836\n",
            "179 0 57.7291145324707\n",
            "180 0 58.001502990722656\n",
            "181 0 70.64618682861328\n",
            "182 0 60.28801345825195\n",
            "183 0 66.28779602050781\n",
            "184 0 51.592620849609375\n",
            "185 0 48.68965148925781\n",
            "186 0 52.8366584777832\n",
            "187 0 75.09745788574219\n",
            "188 0 73.6475830078125\n",
            "189 0 61.520408630371094\n",
            "190 0 59.721641540527344\n",
            "191 0 42.10493087768555\n",
            "192 0 50.09638977050781\n",
            "193 0 67.68106842041016\n",
            "194 0 68.14717102050781\n",
            "195 0 73.31307983398438\n",
            "196 0 59.82972717285156\n",
            "197 0 44.76483917236328\n",
            "198 0 49.06465530395508\n",
            "199 0 62.759151458740234\n"
          ],
          "name": "stdout"
        },
        {
          "output_type": "display_data",
          "data": {
            "image/png": "[encoded data removed]",
            "text/plain": [
              "<Figure size 720x720 with 20 Axes>"
            ]
          },
          "metadata": {
            "tags": [],
            "needs_background": "light"
          }
        },
        {
          "output_type": "display_data",
          "data": {
            "image/png": "[encoded data removed]",
            "text/plain": [
              "<Figure size 432x288 with 1 Axes>"
            ]
          },
          "metadata": {
            "tags": [],
            "needs_background": "light"
          }
        },
        {
          "output_type": "execute_result",
          "data": {
            "text/html": [
              "<div>\n",
              "<style scoped>\n",
              "    .dataframe tbody tr th:only-of-type {\n",
              "        vertical-align: middle;\n",
              "    }\n",
              "\n",
              "    .dataframe tbody tr th {\n",
              "        vertical-align: top;\n",
              "    }\n",
              "\n",
              "    .dataframe thead th {\n",
              "        text-align: right;\n",
              "    }\n",
              "</style>\n",
              "<table border=\"1\" class=\"dataframe\">\n",
              "  <thead>\n",
              "    <tr style=\"text-align: right;\">\n",
              "      <th></th>\n",
              "      <th>Cylinders</th>\n",
              "      <th>Displacement</th>\n",
              "      <th>Horsepower</th>\n",
              "      <th>Weight</th>\n",
              "      <th>Acceleration</th>\n",
              "      <th>Model Year</th>\n",
              "      <th>USA</th>\n",
              "      <th>Europe</th>\n",
              "      <th>Japan</th>\n",
              "    </tr>\n",
              "  </thead>\n",
              "  <tbody>\n",
              "    <tr>\n",
              "      <th>9</th>\n",
              "      <td>1.483887</td>\n",
              "      <td>1.865988</td>\n",
              "      <td>2.234620</td>\n",
              "      <td>1.018782</td>\n",
              "      <td>-2.530891</td>\n",
              "      <td>-1.604642</td>\n",
              "      <td>0.774676</td>\n",
              "      <td>-0.465148</td>\n",
              "      <td>-0.495225</td>\n",
              "    </tr>\n",
              "    <tr>\n",
              "      <th>25</th>\n",
              "      <td>1.483887</td>\n",
              "      <td>1.578444</td>\n",
              "      <td>2.890853</td>\n",
              "      <td>1.925289</td>\n",
              "      <td>-0.559020</td>\n",
              "      <td>-1.604642</td>\n",
              "      <td>0.774676</td>\n",
              "      <td>-0.465148</td>\n",
              "      <td>-0.495225</td>\n",
              "    </tr>\n",
              "    <tr>\n",
              "      <th>28</th>\n",
              "      <td>1.483887</td>\n",
              "      <td>1.041693</td>\n",
              "      <td>2.313368</td>\n",
              "      <td>2.063931</td>\n",
              "      <td>1.054328</td>\n",
              "      <td>-1.604642</td>\n",
              "      <td>0.774676</td>\n",
              "      <td>-0.465148</td>\n",
              "      <td>-0.495225</td>\n",
              "    </tr>\n",
              "    <tr>\n",
              "      <th>31</th>\n",
              "      <td>-0.869348</td>\n",
              "      <td>-0.789008</td>\n",
              "      <td>-0.259066</td>\n",
              "      <td>-0.903250</td>\n",
              "      <td>-0.559020</td>\n",
              "      <td>-1.332580</td>\n",
              "      <td>-1.286751</td>\n",
              "      <td>-0.465148</td>\n",
              "      <td>2.012852</td>\n",
              "    </tr>\n",
              "    <tr>\n",
              "      <th>33</th>\n",
              "      <td>0.307270</td>\n",
              "      <td>0.351586</td>\n",
              "      <td>-0.127819</td>\n",
              "      <td>-0.422150</td>\n",
              "      <td>-0.917542</td>\n",
              "      <td>-1.332580</td>\n",
              "      <td>0.774676</td>\n",
              "      <td>-0.465148</td>\n",
              "      <td>-0.495225</td>\n",
              "    </tr>\n",
              "    <tr>\n",
              "      <th>...</th>\n",
              "      <td>...</td>\n",
              "      <td>...</td>\n",
              "      <td>...</td>\n",
              "      <td>...</td>\n",
              "      <td>...</td>\n",
              "      <td>...</td>\n",
              "      <td>...</td>\n",
              "      <td>...</td>\n",
              "      <td>...</td>\n",
              "    </tr>\n",
              "    <tr>\n",
              "      <th>369</th>\n",
              "      <td>-0.869348</td>\n",
              "      <td>-0.798593</td>\n",
              "      <td>-0.442811</td>\n",
              "      <td>-0.705359</td>\n",
              "      <td>0.875068</td>\n",
              "      <td>1.660094</td>\n",
              "      <td>0.774676</td>\n",
              "      <td>-0.465148</td>\n",
              "      <td>-0.495225</td>\n",
              "    </tr>\n",
              "    <tr>\n",
              "      <th>375</th>\n",
              "      <td>-0.869348</td>\n",
              "      <td>-0.865687</td>\n",
              "      <td>-0.810302</td>\n",
              "      <td>-1.197124</td>\n",
              "      <td>-0.092942</td>\n",
              "      <td>1.660094</td>\n",
              "      <td>-1.286751</td>\n",
              "      <td>2.143005</td>\n",
              "      <td>-0.495225</td>\n",
              "    </tr>\n",
              "    <tr>\n",
              "      <th>382</th>\n",
              "      <td>-0.869348</td>\n",
              "      <td>-0.836932</td>\n",
              "      <td>-0.915299</td>\n",
              "      <td>-0.883106</td>\n",
              "      <td>0.480693</td>\n",
              "      <td>1.660094</td>\n",
              "      <td>-1.286751</td>\n",
              "      <td>-0.465148</td>\n",
              "      <td>2.012852</td>\n",
              "    </tr>\n",
              "    <tr>\n",
              "      <th>384</th>\n",
              "      <td>-0.869348</td>\n",
              "      <td>-0.999874</td>\n",
              "      <td>-0.994047</td>\n",
              "      <td>-1.214899</td>\n",
              "      <td>0.050467</td>\n",
              "      <td>1.660094</td>\n",
              "      <td>-1.286751</td>\n",
              "      <td>-0.465148</td>\n",
              "      <td>2.012852</td>\n",
              "    </tr>\n",
              "    <tr>\n",
              "      <th>396</th>\n",
              "      <td>-0.869348</td>\n",
              "      <td>-0.721914</td>\n",
              "      <td>-0.679055</td>\n",
              "      <td>-0.432815</td>\n",
              "      <td>1.090181</td>\n",
              "      <td>1.660094</td>\n",
              "      <td>0.774676</td>\n",
              "      <td>-0.465148</td>\n",
              "      <td>-0.495225</td>\n",
              "    </tr>\n",
              "  </tbody>\n",
              "</table>\n",
              "<p>78 rows × 9 columns</p>\n",
              "</div>"
            ],
            "text/plain": [
              "     Cylinders  Displacement  Horsepower  ...       USA    Europe     Japan\n",
              "9     1.483887      1.865988    2.234620  ...  0.774676 -0.465148 -0.495225\n",
              "25    1.483887      1.578444    2.890853  ...  0.774676 -0.465148 -0.495225\n",
              "28    1.483887      1.041693    2.313368  ...  0.774676 -0.465148 -0.495225\n",
              "31   -0.869348     -0.789008   -0.259066  ... -1.286751 -0.465148  2.012852\n",
              "33    0.307270      0.351586   -0.127819  ...  0.774676 -0.465148 -0.495225\n",
              "..         ...           ...         ...  ...       ...       ...       ...\n",
              "369  -0.869348     -0.798593   -0.442811  ...  0.774676 -0.465148 -0.495225\n",
              "375  -0.869348     -0.865687   -0.810302  ... -1.286751  2.143005 -0.495225\n",
              "382  -0.869348     -0.836932   -0.915299  ... -1.286751 -0.465148  2.012852\n",
              "384  -0.869348     -0.999874   -0.994047  ... -1.286751 -0.465148  2.012852\n",
              "396  -0.869348     -0.721914   -0.679055  ...  0.774676 -0.465148 -0.495225\n",
              "\n",
              "[78 rows x 9 columns]"
            ]
          },
          "metadata": {
            "tags": []
          },
          "execution_count": 5
        }
      ]
    },
    {
      "cell_type": "code",
      "metadata": {
        "colab": {
          "base_uri": "https://localhost:8080/"
        },
        "id": "BSTHbLNBwMqv",
        "outputId": "62a95961-23e9-4477-e9ed-1a0f9edd8322"
      },
      "source": [
        "import tensorflow as tf\n",
        "x=tf.constant(1.)\n",
        "w1=tf.constant(2.)\n",
        "b1=tf.constant(1.)\n",
        "w2=tf.constant(2.)\n",
        "b2=tf.constant(1.)\n",
        "with tf.GradientTape(persistent=True) as tape:\n",
        "  tape.watch([w1,b1,w2,b2])\n",
        "  y1=x*w1+b1\n",
        "  y2=y1*w2+b2\n",
        "\n",
        "  dy2_dy1=tape.gradient(y2,[y1])[0]\n",
        "  dy1_dw1=tape.gradient(y1,[w1])[0]\n",
        "  dy2_dw1=tape.gradient(y2,[w1])[0]\n",
        "\n",
        "  print(f'dy2_dy1*dy1_dw1={dy2_dy1*dy1_dw1}')\n",
        "  print(f'dy2_dw1={dy2_dw1}')"
      ],
      "execution_count": null,
      "outputs": [
        {
          "output_type": "stream",
          "text": [
            "WARNING:tensorflow:Calling GradientTape.gradient on a persistent tape inside its context is significantly less efficient than calling it outside the context (it causes the gradient ops to be recorded on the tape, leading to increased CPU and memory usage). Only call GradientTape.gradient inside the context if you actually want to trace the gradient in order to compute higher order derivatives.\n",
            "WARNING:tensorflow:Calling GradientTape.gradient on a persistent tape inside its context is significantly less efficient than calling it outside the context (it causes the gradient ops to be recorded on the tape, leading to increased CPU and memory usage). Only call GradientTape.gradient inside the context if you actually want to trace the gradient in order to compute higher order derivatives.\n",
            "WARNING:tensorflow:Calling GradientTape.gradient on a persistent tape inside its context is significantly less efficient than calling it outside the context (it causes the gradient ops to be recorded on the tape, leading to increased CPU and memory usage). Only call GradientTape.gradient inside the context if you actually want to trace the gradient in order to compute higher order derivatives.\n",
            "dy2_dy1*dy1_dw1=2.0\n",
            "dy2_dw1=2.0\n"
          ],
          "name": "stdout"
        }
      ]
    },
    {
      "cell_type": "code",
      "metadata": {
        "colab": {
          "base_uri": "https://localhost:8080/",
          "height": 448
        },
        "id": "q_GgW6Q1Oe3k",
        "outputId": "05cc0925-cca2-4580-8524-3fa88a84e231"
      },
      "source": [
        "import tensorflow as tf\n",
        "import matplotlib.pyplot as plt\n",
        "%matplotlib inline\n",
        "import numpy as np\n",
        "from mpl_toolkits.mplot3d import Axes3D\n",
        "\n",
        "def himmelblau(x):\n",
        "  return (x[0]**2+x[1]-11)**2+(x[0]+x[1]**2-7)**2\n",
        "\n",
        "x=np.arange(-6,6,0.1)\n",
        "y=np.arange(-6,6,0.1)\n",
        "print(f'x,y range: {x.shape},{y.shape}')\n",
        "X,Y=np.meshgrid(x,y)\n",
        "print(f'X,Y maps: {X.shape},{Y.shape}')\n",
        "Z=himmelblau([X,Y])\n",
        "\n",
        "fig=plt.figure()\n",
        "ax=fig.gca(projection='3d')\n",
        "ax.plot_surface(X,Y,Z)\n",
        "ax.view_init(60,-30)\n",
        "ax.set_xlabel('x')\n",
        "ax.set_ylabel('y')\n",
        "\n",
        "#x=tf.constant([4.,0.])\n",
        "#x=tf.constant([1.,0.])\n",
        "x=tf.constant([-4.,0.])\n",
        "#x=tf.constant([-2.,2.])\n",
        "\n",
        "for step in range(200):\n",
        "  with tf.GradientTape() as tape:\n",
        "    tape.watch([x])\n",
        "    y=himmelblau(x)\n",
        "\n",
        "  grads=tape.gradient(y,[x])[0]\n",
        "  x-=0.01*grads\n",
        "  if step%20==19:\n",
        "    print(f'step {step}: x={x.numpy()}, f(x)={y.numpy()}')"
      ],
      "execution_count": null,
      "outputs": [
        {
          "output_type": "stream",
          "text": [
            "x,y range: (120,),(120,)\n",
            "X,Y maps: (120, 120),(120, 120)\n",
            "step 19: x=[-3.5869324 -2.8895032], f(x)=20.132104873657227\n",
            "step 39: x=[-3.7793102 -3.283186 ], f(x)=0.0\n",
            "step 59: x=[-3.7793102 -3.283186 ], f(x)=0.0\n",
            "step 79: x=[-3.7793102 -3.283186 ], f(x)=0.0\n",
            "step 99: x=[-3.7793102 -3.283186 ], f(x)=0.0\n",
            "step 119: x=[-3.7793102 -3.283186 ], f(x)=0.0\n",
            "step 139: x=[-3.7793102 -3.283186 ], f(x)=0.0\n",
            "step 159: x=[-3.7793102 -3.283186 ], f(x)=0.0\n",
            "step 179: x=[-3.7793102 -3.283186 ], f(x)=0.0\n",
            "step 199: x=[-3.7793102 -3.283186 ], f(x)=0.0\n"
          ],
          "name": "stdout"
        },
        {
          "output_type": "display_data",
          "data": {
            "image/png": "[encoded data removed]",
            "text/plain": [
              "<Figure size 432x288 with 1 Axes>"
            ]
          },
          "metadata": {
            "tags": [],
            "needs_background": "light"
          }
        }
      ]
    },
    {
      "cell_type": "code",
      "metadata": {
        "id": "X9Gy3r2mHVAm"
      },
      "source": [
        "import matplotlib.pyplot as plt\n",
        "import numpy as np\n",
        "import seaborn as sns\n",
        "from sklearn.datasets import make_moons\n",
        "from sklearn.model_selection import train_test_split\n",
        "\n",
        "def load_dataset():\n",
        "  N_SAMPLES=2000\n",
        "  TEST_SIZE=0.3\n",
        "  X,Y=make_moons(n_samples=N_SAMPLES,noise=0.2,random_state=100)\n",
        "  X_train,X_test,Y_train,Y_test=train_test_split(X,Y,test_size=TEST_SIZE,random_state=42)\n",
        "  return X,Y,X_train,Y_train,X_test,Y_test\n",
        "\n",
        "def make_plot(X,Y,plot_name, XX=None,YY=None,preds=None,dark=False):\n",
        "  if(dark):\n",
        "    plt.style.use('dark_background')\n",
        "  else:\n",
        "    sns.set_style('whitegrid')\n",
        "  plt.figure(figsize=(16,12))\n",
        "  axes=plt.gca()\n",
        "  axes.set(xlabel='$x_1$',ylabel='$x_2$')\n",
        "  plt.title(plot_name,fontsize=30)\n",
        "  plt.subplots_adjust(left=0.20)\n",
        "  plt.subplots_adjust(right=0.80)\n",
        "  if XX is not None and YY is not None and preds is not None:\n",
        "    plt.contourf(XX,YY,preds.reshape(XX.shape),25,alpha=1,cmap=plt.cm.Spectral)\n",
        "    plt.contour(XX,YY,preds.reshape(XX.shape),levels=[.5],cmap='Greys',vmin=0,vmax=.6)\n",
        "  plt.scatter(X[:, 0],X[:,1], c=y.ravel(),s=40,cmap=plt.cm.Spectral, edgecolors='none')\n",
        "  plt.show()\n",
        "\n",
        "  "
      ],
      "execution_count": null,
      "outputs": []
    },
    {
      "cell_type": "code",
      "metadata": {
        "colab": {
          "base_uri": "https://localhost:8080/"
        },
        "id": "oZX4O7WNMHwG",
        "outputId": "a6509281-4bbf-4265-a93f-a3932c578558"
      },
      "source": [
        "import tensorflow as tf\n",
        "from tensorflow import keras\n",
        "from tensorflow.keras import layers\n",
        "x=tf.constant([2.,1.,0.1])\n",
        "layer=layers.Softmax(axis=-1)\n",
        "layer(x)"
      ],
      "execution_count": null,
      "outputs": [
        {
          "output_type": "execute_result",
          "data": {
            "text/plain": [
              "<tf.Tensor: shape=(3,), dtype=float32, numpy=array([0.6590012 , 0.24243298, 0.09856589], dtype=float32)>"
            ]
          },
          "metadata": {
            "tags": []
          },
          "execution_count": 2
        }
      ]
    },
    {
      "cell_type": "code",
      "metadata": {
        "colab": {
          "base_uri": "https://localhost:8080/"
        },
        "id": "hCP11Q4sM6ox",
        "outputId": "87cbf27b-45ba-407b-91e2-45def18bfe4c"
      },
      "source": [
        "from tensorflow.keras import layers, Sequential\n",
        "import tensorflow as tf\n",
        "network=Sequential([\n",
        "  layers.Dense(3,activation=None),\n",
        "  layers.ReLU(),\n",
        "  layers.Dense(2,activation=None),\n",
        "  layers.ReLU()\n",
        "])\n",
        "x=tf.random.normal([4,3])\n",
        "network(x)"
      ],
      "execution_count": null,
      "outputs": [
        {
          "output_type": "execute_result",
          "data": {
            "text/plain": [
              "<tf.Tensor: shape=(4, 2), dtype=float32, numpy=\n",
              "array([[0.        , 0.        ],\n",
              "       [0.9618076 , 0.82418686],\n",
              "       [1.1515015 , 0.9864183 ],\n",
              "       [0.02717856, 0.03607526]], dtype=float32)>"
            ]
          },
          "metadata": {
            "tags": []
          },
          "execution_count": 5
        }
      ]
    },
    {
      "cell_type": "code",
      "metadata": {
        "colab": {
          "base_uri": "https://localhost:8080/"
        },
        "id": "RflInI5VN8In",
        "outputId": "c83de953-9aa0-40e4-91e3-6a12b6987aea"
      },
      "source": [
        "layers_num=2\n",
        "network=Sequential([])\n",
        "for _ in range(layers_num):\n",
        "  network.add(layers.Dense(3))\n",
        "  network.add(layers.ReLU())\n",
        "network.build(input_shape=(None,4))\n",
        "network.summary()\n",
        "\n",
        "for p in network.trainable_variables:\n",
        "  print(p.name,p.shape)\n",
        "  "
      ],
      "execution_count": null,
      "outputs": [
        {
          "output_type": "stream",
          "text": [
            "Model: \"sequential_2\"\n",
            "_________________________________________________________________\n",
            "Layer (type)                 Output Shape              Param #   \n",
            "=================================================================\n",
            "dense_5 (Dense)              (None, 3)                 15        \n",
            "_________________________________________________________________\n",
            "re_lu_5 (ReLU)               (None, 3)                 0         \n",
            "_________________________________________________________________\n",
            "dense_6 (Dense)              (None, 3)                 12        \n",
            "_________________________________________________________________\n",
            "re_lu_6 (ReLU)               (None, 3)                 0         \n",
            "=================================================================\n",
            "Total params: 27\n",
            "Trainable params: 27\n",
            "Non-trainable params: 0\n",
            "_________________________________________________________________\n",
            "dense_5/kernel:0 (4, 3)\n",
            "dense_5/bias:0 (3,)\n",
            "dense_6/kernel:0 (3, 3)\n",
            "dense_6/bias:0 (3,)\n"
          ],
          "name": "stdout"
        }
      ]
    },
    {
      "cell_type": "code",
      "metadata": {
        "colab": {
          "base_uri": "https://localhost:8080/"
        },
        "id": "McQtKVMOliag",
        "outputId": "a97c2afe-77ab-4676-86db-360914acfc60"
      },
      "source": [
        "import tensorflow as tf\n",
        "from tensorflow import keras\n",
        "from keras import layers\n",
        "\n",
        "class MyDense(layers.Layer):\n",
        "  def __init__(self,inp_dim,outp_dim):\n",
        "    super(MyDense,self).__init__()\n",
        "    #self.kernel=self.add_variable('w',[inp_dim,outp_dim],trainable=False)\n",
        "    self.kernel=tf.Variable(tf.random.normal([inp_dim,outp_dim]),trainable=True)\n",
        "\n",
        "  def call(self,inputs,training=None):\n",
        "    out=inputs@self.kernel\n",
        "    out=tf.nn.relu(out)\n",
        "    return out\n",
        "\n",
        "net=MyDense(4,3)\n",
        "net.variables,net.trainable_variables\n",
        "\n",
        "network=keras.Sequential([MyDense(784,256),\n",
        "          MyDense(256,128),\n",
        "          MyDense(128,64),\n",
        "          MyDense(64,32),\n",
        "          MyDense(32,10),])\n",
        "network.build(input_shape=(None,28*28))\n",
        "\n",
        "class MyModel(keras.Model):\n",
        "  def __init__(self):\n",
        "    super(MyModel,self).__init__()\n",
        "    self.fc1=MyDense(28*28,256)\n",
        "    self.fc2=MyDense(256,128)\n",
        "    self.fc3=MyDense(128,64)\n",
        "    self.fc4=MyDense(64,32)\n",
        "    self.fc5=MyDense(32,10)\n",
        "\n",
        "  def call(self,inputs,training=None):\n",
        "    x=self.fc1(inputs)\n",
        "    x=self.fc2(x)\n",
        "    x=self.fc3(x)\n",
        "    x=self.fc4(x)\n",
        "    x=self.fc5(x)\n",
        "    return x\n",
        "\n",
        "net=MyModel()\n",
        "out=net(tf.random.normal([4,784]))\n",
        "out\n",
        "net.summary()"
      ],
      "execution_count": null,
      "outputs": [
        {
          "output_type": "stream",
          "text": [
            "Model: \"my_model_3\"\n",
            "_________________________________________________________________\n",
            "Layer (type)                 Output Shape              Param #   \n",
            "=================================================================\n",
            "my_dense_53 (MyDense)        multiple                  200704    \n",
            "_________________________________________________________________\n",
            "my_dense_54 (MyDense)        multiple                  32768     \n",
            "_________________________________________________________________\n",
            "my_dense_55 (MyDense)        multiple                  8192      \n",
            "_________________________________________________________________\n",
            "my_dense_56 (MyDense)        multiple                  2048      \n",
            "_________________________________________________________________\n",
            "my_dense_57 (MyDense)        multiple                  320       \n",
            "=================================================================\n",
            "Total params: 244,032\n",
            "Trainable params: 244,032\n",
            "Non-trainable params: 0\n",
            "_________________________________________________________________\n"
          ],
          "name": "stdout"
        }
      ]
    },
    {
      "cell_type": "code",
      "metadata": {
        "colab": {
          "base_uri": "https://localhost:8080/"
        },
        "id": "iTz4H4tLumlp",
        "outputId": "20a6bf2f-0446-40af-ee35-2d8ce1608793"
      },
      "source": [
        "import tensorflow as tf\n",
        "from tensorflow import keras\n",
        "from keras import layers,Sequential\n",
        "\n",
        "resnet=keras.applications.ResNet50(weights='imagenet',include_top=False)\n",
        "#resnet.summary()\n",
        "\n",
        "x=tf.random.normal([4,224,224,3])\n",
        "out=resnet(x)\n",
        "out.shape\n",
        "\n",
        "global_average_layer=layers.GlobalAveragePooling2D()\n",
        "x=tf.random.normal([4,7,7,2048])\n",
        "out=global_average_layer(x)\n",
        "print(out.shape)\n",
        "\n",
        "fc=layers.Dense(100)\n",
        "x=tf.random.normal([4,2048])\n",
        "out=fc(x)\n",
        "out.shape\n",
        "\n",
        "mynet=Sequential([resnet,global_average_layer,fc])\n",
        "mynet.summary()"
      ],
      "execution_count": null,
      "outputs": [
        {
          "output_type": "stream",
          "text": [
            "(4, 2048)\n",
            "Model: \"sequential\"\n",
            "_________________________________________________________________\n",
            "Layer (type)                 Output Shape              Param #   \n",
            "=================================================================\n",
            "resnet50 (Functional)        (None, None, None, 2048)  23587712  \n",
            "_________________________________________________________________\n",
            "global_average_pooling2d_2 ( (None, 2048)              0         \n",
            "_________________________________________________________________\n",
            "dense_1 (Dense)              (None, 100)               204900    \n",
            "=================================================================\n",
            "Total params: 23,792,612\n",
            "Trainable params: 23,739,492\n",
            "Non-trainable params: 53,120\n",
            "_________________________________________________________________\n"
          ],
          "name": "stdout"
        }
      ]
    },
    {
      "cell_type": "code",
      "metadata": {
        "colab": {
          "base_uri": "https://localhost:8080/"
        },
        "id": "Lb0oNczrORRW",
        "outputId": "36191caa-7979-4fbf-f302-fad13da975cb"
      },
      "source": [
        "import tensorflow as tf\n",
        "from tensorflow import keras\n",
        "from keras import layers\n",
        "\n",
        "x=tf.random.normal([2,5,5,3])\n",
        "#w=tf.random.normal([3,3,3,4])\n",
        "#out=tf.nn.conv2d(x,w,strides=3,padding='SAME')\n",
        "layer=layers.Conv2D(4,kernel_size=3,strides=1,padding='SAME')\n",
        "out=layer(x)\n",
        "out\n",
        "layers.trainable_"
      ],
      "execution_count": null,
      "outputs": [
        {
          "output_type": "execute_result",
          "data": {
            "text/plain": [
              "<tf.Tensor: shape=(2, 5, 5, 4), dtype=float32, numpy=\n",
              "array([[[[-0.71382624,  0.22174577,  0.33511725, -0.12523088],\n",
              "         [-1.1996411 ,  0.40352812,  0.18644778,  0.08327295],\n",
              "         [ 0.68842167, -0.48658124,  0.3591782 ,  0.20211497],\n",
              "         [-0.11721801, -2.1061583 ,  0.73848224,  1.1246089 ],\n",
              "         [ 0.45586485,  0.14350533, -0.11713491, -0.15227628]],\n",
              "\n",
              "        [[-0.6097879 , -0.31861657,  0.26858225,  0.5011394 ],\n",
              "         [ 0.32868135, -0.23122324,  1.9248507 ,  0.8491019 ],\n",
              "         [-0.03103941,  0.65053976,  0.18889327,  0.404137  ],\n",
              "         [ 0.9172547 , -2.5232666 ,  1.2399518 ,  2.5518825 ],\n",
              "         [ 0.4028473 ,  0.42142934, -0.9269687 ,  0.43017444]],\n",
              "\n",
              "        [[-0.43115503,  0.2925293 ,  0.16125394,  0.3950547 ],\n",
              "         [ 0.654777  , -1.6480436 ,  0.1998079 ,  1.2133745 ],\n",
              "         [-1.235121  , -0.5906173 ,  1.5229304 , -0.18883406],\n",
              "         [ 1.6300019 ,  1.6755776 , -0.31079328, -1.1997701 ],\n",
              "         [ 1.1730493 , -0.7925482 , -0.8707217 ,  0.2876923 ]],\n",
              "\n",
              "        [[-1.1519864 ,  0.578951  , -0.13518113,  0.39547703],\n",
              "         [-0.40787497, -0.32058135,  1.2069682 , -0.10218273],\n",
              "         [-1.4581431 ,  0.17114936, -0.5127348 ,  0.6945393 ],\n",
              "         [ 0.5480432 , -0.28934398,  0.50217456,  1.620206  ],\n",
              "         [ 1.5188138 , -0.58135146,  0.10735893, -1.0446963 ]],\n",
              "\n",
              "        [[ 0.17852254,  0.6879618 ,  0.40871304,  1.1758277 ],\n",
              "         [-0.53914213, -0.0095067 , -0.04590918, -1.4116852 ],\n",
              "         [-0.13723168,  0.81058127,  0.53342146, -0.3733014 ],\n",
              "         [ 0.43305174, -0.5306215 , -0.2738365 ,  1.2635033 ],\n",
              "         [ 0.20274833,  0.7368497 ,  0.07796398,  0.49795163]]],\n",
              "\n",
              "\n",
              "       [[[ 0.09198976,  0.9579202 ,  0.1505691 , -0.8088977 ],\n",
              "         [ 0.47838494,  0.04371364,  0.33947086, -0.56823367],\n",
              "         [-0.5767201 , -0.6976965 , -0.3458903 ,  0.17689118],\n",
              "         [ 0.23101433,  0.99309325,  0.16843909, -0.57829106],\n",
              "         [-0.09210297,  0.20919773,  1.0182215 , -0.06071816]],\n",
              "\n",
              "        [[-0.00796244,  0.7916922 , -0.23255537, -0.7724658 ],\n",
              "         [ 0.53012395,  0.34696102,  1.6151384 , -1.258622  ],\n",
              "         [-0.00636243, -1.437157  ,  0.6615483 , -1.4170904 ],\n",
              "         [-1.6669707 ,  0.38458037, -0.16712584, -0.08638779],\n",
              "         [ 0.13412447,  0.85907555,  0.6817261 ,  0.84478825]],\n",
              "\n",
              "        [[-0.6365409 , -0.36889076, -0.5765655 , -1.1630718 ],\n",
              "         [-1.111032  ,  0.10395174,  0.6335112 , -0.22640248],\n",
              "         [-0.32324514,  0.23414697,  0.8949097 ,  0.05532017],\n",
              "         [-1.1726182 , -0.94501895, -0.35208228,  0.62223077],\n",
              "         [-1.5138776 , -1.4260075 ,  0.26928818,  0.9753045 ]],\n",
              "\n",
              "        [[-0.23981576, -1.6495053 ,  1.0666236 , -0.04779737],\n",
              "         [-0.6453393 ,  0.28584394, -1.0084925 , -1.304136  ],\n",
              "         [-0.10255428,  0.65178436, -0.43548867, -0.2494039 ],\n",
              "         [ 0.5408526 , -0.41655546,  1.5679209 ,  1.360385  ],\n",
              "         [-0.3476118 , -0.52766275, -0.12653534,  0.00679782]],\n",
              "\n",
              "        [[ 0.39474148, -0.8447215 ,  0.29266092, -0.13850805],\n",
              "         [ 0.20682496, -0.5416975 ,  0.04492718,  0.89684325],\n",
              "         [ 0.2305523 ,  0.63615066, -0.7122401 ,  0.14579313],\n",
              "         [ 0.1905236 ,  0.6806234 , -0.62314653, -0.32595542],\n",
              "         [-0.30148748, -0.76760113, -0.01454435, -0.6313546 ]]]],\n",
              "      dtype=float32)>"
            ]
          },
          "metadata": {
            "tags": []
          },
          "execution_count": 6
        }
      ]
    },
    {
      "cell_type": "code",
      "metadata": {
        "colab": {
          "base_uri": "https://localhost:8080/"
        },
        "id": "KmkbMyGzdGBe",
        "outputId": "2837d0b3-df94-41d2-abc3-3db4c919d07d"
      },
      "source": [
        "import tensorflow as tf\n",
        "from tensorflow.keras import datasets\n",
        "\n",
        "def preprocess(x, y):\n",
        "  # [0~1]\n",
        "  x = tf.cast(x, dtype=tf.float32) / 255.\n",
        "  y = tf.cast(y, dtype=tf.int32)\n",
        "  return x, y\n",
        "\n",
        "(x,y),(x_test,y_test)=datasets.cifar100.load_data()\n",
        "y=tf.squeeze(y,axis=1)\n",
        "y_test=tf.squeeze(y_test,axis=1)\n",
        "print(x.shape,y.shape,x_test.shape,y_test.shape)\n",
        "train_db=tf.data.Dataset.from_tensor_slices((x,y))\n",
        "train_db=train_db.shuffle(1000).map(preprocess).batch(128)\n",
        "test_db=tf.data.Dataset.from_tensor_slices((x_test,y_test))\n",
        "test_db=test_db.map(preprocess).batch(128)\n",
        "sample=next(iter(train_db))\n",
        "print('sample:',sample[0].shape,sample[1].shape,tf.reduce_min(sample[0]),tf.reduce_max(sample[0]))\n"
      ],
      "execution_count": null,
      "outputs": [
        {
          "output_type": "stream",
          "text": [
            "(50000, 32, 32, 3) (50000,) (10000, 32, 32, 3) (10000,)\n",
            "sample: (128, 32, 32, 3) (128,) tf.Tensor(0.0, shape=(), dtype=float32) tf.Tensor(1.0, shape=(), dtype=float32)\n"
          ],
          "name": "stdout"
        },
        {
          "output_type": "execute_result",
          "data": {
            "text/plain": [
              "(<tf.Tensor: shape=(128, 32, 32, 3), dtype=float32, numpy=\n",
              " array([[[[0.69411767, 0.80784315, 0.84705883],\n",
              "          [0.69411767, 0.80784315, 0.84313726],\n",
              "          [0.67058825, 0.78431374, 0.81960785],\n",
              "          ...,\n",
              "          [0.7882353 , 0.8745098 , 0.88235295],\n",
              "          [0.7921569 , 0.8745098 , 0.8745098 ],\n",
              "          [0.7921569 , 0.87058824, 0.8627451 ]],\n",
              " \n",
              "         [[0.69411767, 0.80784315, 0.83137256],\n",
              "          [0.6862745 , 0.8       , 0.8235294 ],\n",
              "          [0.68235296, 0.79607844, 0.81960785],\n",
              "          ...,\n",
              "          [0.7764706 , 0.85882354, 0.8666667 ],\n",
              "          [0.7764706 , 0.85882354, 0.85490197],\n",
              "          [0.77254903, 0.84705883, 0.8392157 ]],\n",
              " \n",
              "         [[0.7411765 , 0.85490197, 0.87058824],\n",
              "          [0.7294118 , 0.84313726, 0.85882354],\n",
              "          [0.7254902 , 0.8392157 , 0.85490197],\n",
              "          ...,\n",
              "          [0.7294118 , 0.8156863 , 0.81960785],\n",
              "          [0.7372549 , 0.8156863 , 0.81960785],\n",
              "          [0.7372549 , 0.8117647 , 0.8039216 ]],\n",
              " \n",
              "         ...,\n",
              " \n",
              "         [[0.21568628, 0.15686275, 0.15294118],\n",
              "          [0.20392157, 0.14509805, 0.14117648],\n",
              "          [0.19607843, 0.13725491, 0.13333334],\n",
              "          ...,\n",
              "          [0.15294118, 0.09019608, 0.09803922],\n",
              "          [0.16862746, 0.10980392, 0.10980392],\n",
              "          [0.19215687, 0.13333334, 0.1254902 ]],\n",
              " \n",
              "         [[0.21176471, 0.15294118, 0.14117648],\n",
              "          [0.2       , 0.14117648, 0.13333334],\n",
              "          [0.19607843, 0.13725491, 0.12941177],\n",
              "          ...,\n",
              "          [0.16862746, 0.10588235, 0.10980392],\n",
              "          [0.18039216, 0.11764706, 0.11764706],\n",
              "          [0.19215687, 0.12941177, 0.12941177]],\n",
              " \n",
              "         [[0.21176471, 0.15294118, 0.14117648],\n",
              "          [0.20392157, 0.14509805, 0.13333334],\n",
              "          [0.2       , 0.14117648, 0.12941177],\n",
              "          ...,\n",
              "          [0.17254902, 0.10588235, 0.10588235],\n",
              "          [0.1764706 , 0.10980392, 0.10980392],\n",
              "          [0.1882353 , 0.1254902 , 0.1254902 ]]],\n",
              " \n",
              " \n",
              "        [[[1.        , 1.        , 1.        ],\n",
              "          [1.        , 1.        , 1.        ],\n",
              "          [1.        , 1.        , 1.        ],\n",
              "          ...,\n",
              "          [1.        , 1.        , 1.        ],\n",
              "          [1.        , 1.        , 1.        ],\n",
              "          [1.        , 1.        , 1.        ]],\n",
              " \n",
              "         [[1.        , 1.        , 1.        ],\n",
              "          [0.99215686, 0.99215686, 0.99215686],\n",
              "          [0.99607843, 0.99215686, 0.99607843],\n",
              "          ...,\n",
              "          [0.99607843, 0.99607843, 0.99607843],\n",
              "          [0.99215686, 0.99215686, 0.99215686],\n",
              "          [1.        , 1.        , 1.        ]],\n",
              " \n",
              "         [[1.        , 1.        , 1.        ],\n",
              "          [0.99607843, 0.99607843, 0.99607843],\n",
              "          [0.99607843, 0.99607843, 0.99607843],\n",
              "          ...,\n",
              "          [0.99607843, 0.99607843, 0.99607843],\n",
              "          [0.99607843, 0.99607843, 0.99607843],\n",
              "          [1.        , 1.        , 1.        ]],\n",
              " \n",
              "         ...,\n",
              " \n",
              "         [[1.        , 1.        , 1.        ],\n",
              "          [0.99607843, 0.99607843, 0.99607843],\n",
              "          [0.99607843, 0.99607843, 0.99607843],\n",
              "          ...,\n",
              "          [1.        , 0.99215686, 0.9882353 ],\n",
              "          [0.99215686, 0.99215686, 0.99215686],\n",
              "          [1.        , 1.        , 1.        ]],\n",
              " \n",
              "         [[1.        , 1.        , 1.        ],\n",
              "          [0.99215686, 0.99215686, 0.99215686],\n",
              "          [0.99607843, 0.99215686, 0.99607843],\n",
              "          ...,\n",
              "          [0.99215686, 0.99607843, 0.9843137 ],\n",
              "          [0.9843137 , 0.99607843, 0.99215686],\n",
              "          [1.        , 1.        , 1.        ]],\n",
              " \n",
              "         [[1.        , 1.        , 1.        ],\n",
              "          [1.        , 1.        , 1.        ],\n",
              "          [1.        , 1.        , 1.        ],\n",
              "          ...,\n",
              "          [1.        , 1.        , 1.        ],\n",
              "          [1.        , 1.        , 1.        ],\n",
              "          [1.        , 1.        , 1.        ]]],\n",
              " \n",
              " \n",
              "        [[[0.52156866, 0.4117647 , 0.39215687],\n",
              "          [0.4627451 , 0.36078432, 0.32941177],\n",
              "          [0.49019608, 0.38431373, 0.34509805],\n",
              "          ...,\n",
              "          [0.23137255, 0.16470589, 0.15294118],\n",
              "          [0.32156864, 0.25490198, 0.21960784],\n",
              "          [0.41568628, 0.33333334, 0.28627452]],\n",
              " \n",
              "         [[0.5647059 , 0.45882353, 0.43529412],\n",
              "          [0.49803922, 0.39607844, 0.3647059 ],\n",
              "          [0.54509807, 0.4392157 , 0.4       ],\n",
              "          ...,\n",
              "          [0.4       , 0.3137255 , 0.28627452],\n",
              "          [0.5921569 , 0.5137255 , 0.4509804 ],\n",
              "          [0.5529412 , 0.47058824, 0.4       ]],\n",
              " \n",
              "         [[0.6666667 , 0.56078434, 0.5372549 ],\n",
              "          [0.5764706 , 0.47058824, 0.44313726],\n",
              "          [0.58431375, 0.47843137, 0.4392157 ],\n",
              "          ...,\n",
              "          [0.58431375, 0.49411765, 0.4509804 ],\n",
              "          [0.5921569 , 0.5137255 , 0.43529412],\n",
              "          [0.4509804 , 0.39215687, 0.30588236]],\n",
              " \n",
              "         ...,\n",
              " \n",
              "         [[0.2       , 0.13725491, 0.10588235],\n",
              "          [0.21960784, 0.16470589, 0.1254902 ],\n",
              "          [0.23529412, 0.18039216, 0.14901961],\n",
              "          ...,\n",
              "          [0.25882354, 0.19607843, 0.16078432],\n",
              "          [0.25882354, 0.22352941, 0.18431373],\n",
              "          [0.13725491, 0.14117648, 0.08627451]],\n",
              " \n",
              "         [[0.20784314, 0.15294118, 0.12156863],\n",
              "          [0.18431373, 0.14509805, 0.10980392],\n",
              "          [0.05098039, 0.02745098, 0.01176471],\n",
              "          ...,\n",
              "          [0.24705882, 0.1764706 , 0.14901961],\n",
              "          [0.23529412, 0.16862746, 0.13725491],\n",
              "          [0.22745098, 0.18431373, 0.14509805]],\n",
              " \n",
              "         [[0.27450982, 0.22745098, 0.2       ],\n",
              "          [0.27450982, 0.23921569, 0.2       ],\n",
              "          [0.11372549, 0.09019608, 0.0627451 ],\n",
              "          ...,\n",
              "          [0.24313726, 0.19215687, 0.15294118],\n",
              "          [0.25882354, 0.19215687, 0.16078432],\n",
              "          [0.28235295, 0.21568628, 0.18431373]]],\n",
              " \n",
              " \n",
              "        ...,\n",
              " \n",
              " \n",
              "        [[[0.        , 0.        , 0.        ],\n",
              "          [0.        , 0.        , 0.        ],\n",
              "          [0.00392157, 0.00392157, 0.00392157],\n",
              "          ...,\n",
              "          [0.01960784, 0.01960784, 0.01176471],\n",
              "          [0.02352941, 0.02352941, 0.01568628],\n",
              "          [0.01568628, 0.01568628, 0.00784314]],\n",
              " \n",
              "         [[0.        , 0.        , 0.        ],\n",
              "          [0.        , 0.        , 0.        ],\n",
              "          [0.00392157, 0.00392157, 0.00392157],\n",
              "          ...,\n",
              "          [0.02745098, 0.02745098, 0.01960784],\n",
              "          [0.01960784, 0.01960784, 0.01176471],\n",
              "          [0.02352941, 0.02352941, 0.01568628]],\n",
              " \n",
              "         [[0.00392157, 0.00392157, 0.00392157],\n",
              "          [0.        , 0.        , 0.        ],\n",
              "          [0.00392157, 0.00392157, 0.00392157],\n",
              "          ...,\n",
              "          [0.01568628, 0.01568628, 0.01176471],\n",
              "          [0.00784314, 0.00784314, 0.00392157],\n",
              "          [0.01568628, 0.01568628, 0.01176471]],\n",
              " \n",
              "         ...,\n",
              " \n",
              "         [[0.0627451 , 0.05882353, 0.03529412],\n",
              "          [0.01568628, 0.01568628, 0.00784314],\n",
              "          [0.00392157, 0.00392157, 0.        ],\n",
              "          ...,\n",
              "          [0.5882353 , 0.41960785, 0.47843137],\n",
              "          [0.3882353 , 0.34117648, 0.34901962],\n",
              "          [0.21176471, 0.22745098, 0.20784314]],\n",
              " \n",
              "         [[0.10980392, 0.10196079, 0.05882353],\n",
              "          [0.07058824, 0.06666667, 0.04313726],\n",
              "          [0.01568628, 0.01176471, 0.00784314],\n",
              "          ...,\n",
              "          [0.654902  , 0.4862745 , 0.5411765 ],\n",
              "          [0.5176471 , 0.40784314, 0.44313726],\n",
              "          [0.22745098, 0.22352941, 0.21568628]],\n",
              " \n",
              "         [[0.10980392, 0.10196079, 0.05098039],\n",
              "          [0.09411765, 0.09019608, 0.05490196],\n",
              "          [0.03137255, 0.03137255, 0.01568628],\n",
              "          ...,\n",
              "          [0.6509804 , 0.49411765, 0.54901963],\n",
              "          [0.5764706 , 0.43529412, 0.48235294],\n",
              "          [0.2509804 , 0.23529412, 0.22745098]]],\n",
              " \n",
              " \n",
              "        [[[0.53333336, 0.5764706 , 0.52156866],\n",
              "          [0.5529412 , 0.59607846, 0.54509807],\n",
              "          [0.58431375, 0.6156863 , 0.5568628 ],\n",
              "          ...,\n",
              "          [0.56078434, 0.58431375, 0.52156866],\n",
              "          [0.69803923, 0.6313726 , 0.43137255],\n",
              "          [0.77254903, 0.64705884, 0.36862746]],\n",
              " \n",
              "         [[0.5568628 , 0.59607846, 0.5411765 ],\n",
              "          [0.5803922 , 0.6117647 , 0.56078434],\n",
              "          [0.62352943, 0.6313726 , 0.5686275 ],\n",
              "          ...,\n",
              "          [0.5647059 , 0.5882353 , 0.5294118 ],\n",
              "          [0.6901961 , 0.6313726 , 0.45882353],\n",
              "          [0.7921569 , 0.654902  , 0.38039216]],\n",
              " \n",
              "         [[0.5647059 , 0.59607846, 0.54509807],\n",
              "          [0.5882353 , 0.60784316, 0.5647059 ],\n",
              "          [0.63529414, 0.6392157 , 0.5686275 ],\n",
              "          ...,\n",
              "          [0.5529412 , 0.5764706 , 0.5176471 ],\n",
              "          [0.6627451 , 0.6117647 , 0.4627451 ],\n",
              "          [0.7921569 , 0.6509804 , 0.38431373]],\n",
              " \n",
              "         ...,\n",
              " \n",
              "         [[0.5058824 , 0.5254902 , 0.47843137],\n",
              "          [0.5176471 , 0.53333336, 0.49019608],\n",
              "          [0.5058824 , 0.47843137, 0.41568628],\n",
              "          ...,\n",
              "          [0.10980392, 0.06666667, 0.04705882],\n",
              "          [0.1882353 , 0.10980392, 0.0627451 ],\n",
              "          [0.3137255 , 0.1764706 , 0.08627451]],\n",
              " \n",
              "         [[0.5058824 , 0.5254902 , 0.47843137],\n",
              "          [0.5137255 , 0.5372549 , 0.49411765],\n",
              "          [0.54901963, 0.53333336, 0.46666667],\n",
              "          ...,\n",
              "          [0.3019608 , 0.19215687, 0.14901961],\n",
              "          [0.29803923, 0.16470589, 0.08627451],\n",
              "          [0.3254902 , 0.18431373, 0.08627451]],\n",
              " \n",
              "         [[0.49411765, 0.5137255 , 0.46666667],\n",
              "          [0.5019608 , 0.5294118 , 0.49019608],\n",
              "          [0.5568628 , 0.5372549 , 0.46666667],\n",
              "          ...,\n",
              "          [0.41568628, 0.3137255 , 0.24705882],\n",
              "          [0.30588236, 0.16862746, 0.09411765],\n",
              "          [0.2901961 , 0.16862746, 0.08627451]]],\n",
              " \n",
              " \n",
              "        [[[0.10588235, 0.19215687, 0.19215687],\n",
              "          [0.10588235, 0.20784314, 0.20392157],\n",
              "          [0.10588235, 0.21960784, 0.21176471],\n",
              "          ...,\n",
              "          [0.1764706 , 0.44313726, 0.17254902],\n",
              "          [0.21176471, 0.42352942, 0.21568628],\n",
              "          [0.18039216, 0.3647059 , 0.19215687]],\n",
              " \n",
              "         [[0.10980392, 0.19607843, 0.2       ],\n",
              "          [0.10588235, 0.20784314, 0.20392157],\n",
              "          [0.10588235, 0.21960784, 0.21176471],\n",
              "          ...,\n",
              "          [0.18039216, 0.43529412, 0.1882353 ],\n",
              "          [0.16862746, 0.40392157, 0.18039216],\n",
              "          [0.16862746, 0.39607844, 0.18039216]],\n",
              " \n",
              "         [[0.11764706, 0.20392157, 0.20392157],\n",
              "          [0.10980392, 0.21176471, 0.20784314],\n",
              "          [0.10588235, 0.21960784, 0.21176471],\n",
              "          ...,\n",
              "          [0.23529412, 0.46666667, 0.24313726],\n",
              "          [0.21960784, 0.4509804 , 0.22352941],\n",
              "          [0.14901961, 0.3764706 , 0.15686275]],\n",
              " \n",
              "         ...,\n",
              " \n",
              "         [[0.10588235, 0.19607843, 0.12941177],\n",
              "          [0.16078432, 0.2784314 , 0.2       ],\n",
              "          [0.15686275, 0.2901961 , 0.18039216],\n",
              "          ...,\n",
              "          [0.30980393, 0.30588236, 0.3019608 ],\n",
              "          [0.25882354, 0.23921569, 0.22745098],\n",
              "          [0.32156864, 0.2784314 , 0.25882354]],\n",
              " \n",
              "         [[0.10588235, 0.18431373, 0.12156863],\n",
              "          [0.13725491, 0.23921569, 0.16862746],\n",
              "          [0.14509805, 0.27058825, 0.16470589],\n",
              "          ...,\n",
              "          [0.36078432, 0.3254902 , 0.29803923],\n",
              "          [0.49803922, 0.44705883, 0.4117647 ],\n",
              "          [0.654902  , 0.58431375, 0.54509807]],\n",
              " \n",
              "         [[0.10196079, 0.1764706 , 0.11764706],\n",
              "          [0.10196079, 0.19215687, 0.1254902 ],\n",
              "          [0.19215687, 0.3254902 , 0.21960784],\n",
              "          ...,\n",
              "          [0.5058824 , 0.43137255, 0.38431373],\n",
              "          [0.75686276, 0.67058825, 0.61960787],\n",
              "          [0.8156863 , 0.7176471 , 0.67058825]]]], dtype=float32)>,\n",
              " <tf.Tensor: shape=(128,), dtype=int32, numpy=\n",
              " array([81, 70, 74, 19, 11, 77, 41, 93, 60, 33, 95,  2, 74, 98, 64, 92, 81,\n",
              "        27, 46, 17, 61, 18, 86, 93, 11, 63, 50, 82, 14, 98, 30, 34, 65, 71,\n",
              "        26, 64, 51, 64, 87, 68, 65, 54, 99, 60, 71,  0, 33, 29,  0, 89, 43,\n",
              "        54, 13, 48, 63, 90,  9, 82,  5, 73,  0, 44, 76, 33, 79, 90, 59, 23,\n",
              "        46,  5, 51, 19, 62,  0, 97, 71, 27, 59, 87, 14, 19, 42, 60, 95, 64,\n",
              "        36, 84,  8, 17, 72, 29,  1, 12, 67, 28, 17, 51, 85, 18, 57, 57, 76,\n",
              "        48, 42, 83, 72, 56, 76, 82, 92, 20, 39, 19, 48, 84, 53, 42, 91, 67,\n",
              "        63, 78, 46, 28, 44,  6, 54, 36, 27], dtype=int32)>)"
            ]
          },
          "metadata": {
            "tags": []
          },
          "execution_count": 12
        }
      ]
    },
    {
      "cell_type": "code",
      "metadata": {
        "colab": {
          "base_uri": "https://localhost:8080/",
          "height": 34
        },
        "id": "oWrN_4lWh3cj",
        "outputId": "6182a81b-2ff5-4eef-a7c8-e3d79a109dec"
      },
      "source": [
        "import torch\n",
        "torch.__version__"
      ],
      "execution_count": null,
      "outputs": [
        {
          "output_type": "execute_result",
          "data": {
            "application/vnd.google.colaboratory.intrinsic+json": {
              "type": "string"
            },
            "text/plain": [
              "'1.8.1+cu101'"
            ]
          },
          "metadata": {
            "tags": []
          },
          "execution_count": 14
        }
      ]
    },
    {
      "cell_type": "code",
      "metadata": {
        "colab": {
          "base_uri": "https://localhost:8080/"
        },
        "id": "8icq1VEiB2Li",
        "outputId": "24cde540-7878-4d73-9457-3d6a44c526df"
      },
      "source": [
        "import tensorflow as tf\n",
        "input=tf.Variable(tf.random.normal([1,5,5,1]))\n",
        "conv=tf.keras.layers.Conv2D(1,2,padding='SAME')(input)\n",
        "print(conv)"
      ],
      "execution_count": null,
      "outputs": [
        {
          "output_type": "stream",
          "text": [
            "tf.Tensor(\n",
            "[[[[-0.6625496 ]\n",
            "   [ 0.3863937 ]\n",
            "   [ 0.607589  ]\n",
            "   [-0.22988816]\n",
            "   [-0.2582362 ]]\n",
            "\n",
            "  [[ 1.1835076 ]\n",
            "   [ 0.05703224]\n",
            "   [ 0.27137062]\n",
            "   [ 0.23337507]\n",
            "   [-0.3547741 ]]\n",
            "\n",
            "  [[-0.5264086 ]\n",
            "   [ 0.7526054 ]\n",
            "   [ 1.1564742 ]\n",
            "   [-0.6471125 ]\n",
            "   [-1.0305266 ]]\n",
            "\n",
            "  [[-0.5740352 ]\n",
            "   [-0.9149993 ]\n",
            "   [-0.15687943]\n",
            "   [ 0.3432741 ]\n",
            "   [-0.1622553 ]]\n",
            "\n",
            "  [[-0.03681985]\n",
            "   [-0.6717243 ]\n",
            "   [ 0.3531934 ]\n",
            "   [ 1.1209209 ]\n",
            "   [ 0.20607837]]]], shape=(1, 5, 5, 1), dtype=float32)\n"
          ],
          "name": "stdout"
        }
      ]
    }
  ]
}